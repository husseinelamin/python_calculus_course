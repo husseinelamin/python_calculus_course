{
  "nbformat": 4,
  "nbformat_minor": 0,
  "metadata": {
    "colab": {
      "provenance": [],
      "authorship_tag": "ABX9TyN/6zVHB2KhbKo1wmidHd0H",
      "include_colab_link": true
    },
    "kernelspec": {
      "name": "python3",
      "display_name": "Python 3"
    },
    "language_info": {
      "name": "python"
    }
  },
  "cells": [
    {
      "cell_type": "markdown",
      "metadata": {
        "id": "view-in-github",
        "colab_type": "text"
      },
      "source": [
        "<a href=\"https://colab.research.google.com/github/husseinelamin/python_calculus_course/blob/main/Limits_HW_1.ipynb\" target=\"_parent\"><img src=\"https://colab.research.google.com/assets/colab-badge.svg\" alt=\"Open In Colab\"/></a>"
      ]
    },
    {
      "cell_type": "code",
      "execution_count": 11,
      "metadata": {
        "colab": {
          "base_uri": "https://localhost:8080/"
        },
        "id": "_38Pce5YJ6Dx",
        "outputId": "ec583ad4-6b05-47cb-d87c-da5ff46fa6e2"
      },
      "outputs": [
        {
          "output_type": "stream",
          "name": "stdout",
          "text": [
            "x=             0\n",
            "0  -2*sqrt(2)\n",
            "1   2*sqrt(2)\n"
          ]
        }
      ],
      "source": [
        "import sympy\n",
        "from sympy import symbols\n",
        "from sympy.solvers import solve\n",
        "import pandas as pd\n",
        "\n",
        "x = symbols('x')\n",
        "\n",
        "# write out equation of interest\n",
        "eq = (x**2 - 8) / (x**2 - 4)\n",
        "\n",
        "# solve the equation (ie set to 0)\n",
        "df = pd.DataFrame(sympy.solve(eq, x))\n",
        "\n",
        "print(\"x=\", df)"
      ]
    },
    {
      "cell_type": "code",
      "source": [
        "# add critical values from prior step\n",
        "x_1 = df[0][0]\n",
        "x_2 = df[0][1]\n",
        "print(x_1, x_2)\n",
        "\n",
        "\n",
        "# first critical point\n",
        "right = sympy.limit(eq, x, x_1, dir='+')\n",
        "left = sympy.limit(eq, x, x_1, dir='-')\n",
        "print('at x=', x_1)\n",
        "print('right side limit =', right)\n",
        "print('left side limit =', left)\n",
        "\n",
        "# second critical point\n",
        "right = sympy.limit(eq, x, x_2, dir='+')\n",
        "left = sympy.limit(eq, x, x_2, dir='-')\n",
        "print('at x=', x_2)\n",
        "print('right side limit =', right)\n",
        "print('left side limit =', left)\n",
        "\n",
        "# approaching + / - infinity\n",
        "right = sympy.limit(eq, x, sympy.oo)\n",
        "left = sympy.limit(eq, x, -sympy.oo)\n",
        "print('as x approaches infinity:', right)\n",
        "print('as x approaches negative infinity:', left)"
      ],
      "metadata": {
        "colab": {
          "base_uri": "https://localhost:8080/"
        },
        "id": "Vp2IRqQxLe7k",
        "outputId": "9f28a7db-c1d1-499b-9a22-e43c19104402"
      },
      "execution_count": 12,
      "outputs": [
        {
          "output_type": "stream",
          "name": "stdout",
          "text": [
            "-2*sqrt(2) 2*sqrt(2)\n",
            "at x= -2*sqrt(2)\n",
            "right side limit = 0\n",
            "left side limit = 0\n",
            "at x= 2*sqrt(2)\n",
            "right side limit = 0\n",
            "left side limit = 0\n",
            "as x approaches infinity: 1\n",
            "as x approaches negative infinity: 1\n"
          ]
        }
      ]
    },
    {
      "cell_type": "markdown",
      "source": [],
      "metadata": {
        "id": "NWcXa0ruLnhm"
      }
    }
  ]
}