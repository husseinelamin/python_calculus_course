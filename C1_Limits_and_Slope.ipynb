{
  "nbformat": 4,
  "nbformat_minor": 0,
  "metadata": {
    "colab": {
      "provenance": [],
      "include_colab_link": true
    },
    "kernelspec": {
      "name": "python3",
      "display_name": "Python 3"
    },
    "language_info": {
      "name": "python"
    }
  },
  "cells": [
    {
      "cell_type": "markdown",
      "metadata": {
        "id": "view-in-github",
        "colab_type": "text"
      },
      "source": [
        "<a href=\"https://colab.research.google.com/github/husseinelamin/python_calculus_course/blob/main/C1_Limits_and_Slope.ipynb\" target=\"_parent\"><img src=\"https://colab.research.google.com/assets/colab-badge.svg\" alt=\"Open In Colab\"/></a>"
      ]
    },
    {
      "cell_type": "markdown",
      "source": [
        "# Limits - where is the function undefined?<br>\n",
        "Example function: y = $\\frac{3x^2}{x^2 - 4}$"
      ],
      "metadata": {
        "id": "Z3zJ1822YcJK"
      }
    },
    {
      "cell_type": "code",
      "source": [
        "import sympy\n",
        "from sympy import symbols\n",
        "from sympy.solvers import solve\n",
        "\n",
        "x = symbols('x')\n",
        "\n",
        "# Put the equation here\n",
        "eq = x**2 - 4\n",
        "\n",
        "# solve() sets the equation equal to zero\n",
        "print(\"x = \", solve(eq,x))"
      ],
      "metadata": {
        "id": "ky7eVgS-YfYX"
      },
      "execution_count": null,
      "outputs": []
    },
    {
      "cell_type": "markdown",
      "source": [
        "# Limits - approaching from right or left<br>\n",
        "Example function: y = $\\frac{3x^2}{x^2 - 4}$\n"
      ],
      "metadata": {
        "id": "Hh8N6mUpaMdw"
      }
    },
    {
      "cell_type": "code",
      "source": [
        "x = -2\n",
        "h = 0.0001\n",
        "\n",
        "# for y = (3*x**2)/(x**2 - 4)\n",
        "\n",
        "y_right = (3*(x+h)**2)/((x+h)**2 - 4)\n",
        "y_left = (3*(x-h)**2)/((x-h)**2 - 4)\n",
        "\n",
        "print(\"y_right = \", y_right)\n",
        "print(\"y_left = \", y_left)\n",
        "\n",
        "if round(y_right) != round(y_left):\n",
        "    print(\"Limit does not exist at x = \", x)\n",
        "\n"
      ],
      "metadata": {
        "id": "BbsN6hStaWiB"
      },
      "execution_count": null,
      "outputs": []
    },
    {
      "cell_type": "markdown",
      "source": [
        "# Limits - simple example to compare"
      ],
      "metadata": {
        "id": "7lNhk3IOuFIH"
      }
    },
    {
      "cell_type": "code",
      "source": [
        "x = 2\n",
        "h = 0.0001\n",
        "\n",
        "# for y = 3*x\n",
        "\n",
        "y_right = 3*(x+h)\n",
        "y_left = 3*(x-h)\n",
        "\n",
        "print(\"y_right = \", y_right)\n",
        "print(\"y_left = \", y_left)\n",
        "\n",
        "if round(y_right) != round(y_left):\n",
        "    print(\"Limit does not exist at x = \", x)\n",
        "else:\n",
        "    print(\"Limit at x = \", x, \" is \", round(y_right))\n"
      ],
      "metadata": {
        "id": "g288NoKKuJNn"
      },
      "execution_count": null,
      "outputs": []
    },
    {
      "cell_type": "markdown",
      "source": [
        "# Limits - as x approaches infinity<br>\n",
        "Example function: y = $\\frac{3x^2}{x^2 - 4}$"
      ],
      "metadata": {
        "id": "vWHyOKl0d1Hb"
      }
    },
    {
      "cell_type": "code",
      "source": [
        "\n",
        "# for equation y = (3*x**2)/(x**2 - 4)\n",
        "\n",
        "for x_value in [10, 100, 1000, 10000]:\n",
        "    limit = (3*x_value**2)/(x_value**2 - 4)\n",
        "    print(\"x = \", x_value, \" Limit = \", limit)\n",
        "\n"
      ],
      "metadata": {
        "id": "yc89vSPzeFEn"
      },
      "execution_count": null,
      "outputs": []
    },
    {
      "cell_type": "markdown",
      "source": [
        "# Limits - graphing<br>\n",
        "Example function: y = $\\frac{3x^2}{x^2 - 4}$"
      ],
      "metadata": {
        "id": "vzrfumrFjR8o"
      }
    },
    {
      "cell_type": "code",
      "source": [
        "import matplotlib.pyplot as plt\n",
        "import numpy as np\n",
        "\n",
        "# for equation y = (3*x**2)/(x**2 - 4)\n",
        "x_value = 0\n",
        "y_value = (3*x_value**2)/(x_value**2 - 4)\n",
        "\n",
        "zoom = 10\n",
        "xmin = x_value - zoom\n",
        "xmax = x_value + zoom\n",
        "ymin = y_value - zoom\n",
        "ymax = y_value + zoom\n",
        "\n",
        "x = np.linspace(xmin, xmax, 100)\n",
        "y = (3*x**2)/(x**2 - 4)\n",
        "#y = 3*x*(x-2)/(x-2)\n",
        "\n",
        "plt.axis([xmin,xmax,ymin,ymax]) # window size\n",
        "plt.plot(x, y)\n",
        "plt.plot([x_value],[y_value],'ro')\n",
        "#plt.plot([xmin,xmax],[3,3],'r--')\n",
        "plt.axhline(y=0, color='k')\n",
        "plt.axvline(x=0, color='k')\n",
        "plt.xlabel(\"x\")\n",
        "plt.ylabel(\"y\")\n",
        "plt.title(\"Graph of y = (3*x**2) / (x**2 - 4)\")\n",
        "plt.show()\n"
      ],
      "metadata": {
        "id": "JXC8nlG1jVT3"
      },
      "execution_count": null,
      "outputs": []
    },
    {
      "cell_type": "markdown",
      "source": [
        "# Limits with Sympy<br>\n",
        "Example function: y = $\\frac{3x^2}{x^2 - 4}$"
      ],
      "metadata": {
        "id": "rK2QCuG0IW3v"
      }
    },
    {
      "cell_type": "code",
      "source": [
        "import sympy\n",
        "from sympy import symbols\n",
        "\n",
        "x = symbols('x')\n",
        "\n",
        "# Put the equation here\n",
        "eq = (3*x**2)/(x**2 - 4)\n",
        "\n",
        "# critical values\n",
        "x_1 = 2\n",
        "x_2 = -2\n",
        "\n",
        "# limit(expression, variable, value)\n",
        "\n",
        "# first critical point\n",
        "right = sympy.limit(eq, x, x_1, dir='+')\n",
        "left = sympy.limit(eq, x, x_1, dir='-')\n",
        "print(\"at x =\", x_1)\n",
        "print(\"right = \", right)\n",
        "print(\"left = \", left)\n",
        "\n",
        "# second critical point\n",
        "right = sympy.limit(eq, x, x_2, dir='+')\n",
        "left = sympy.limit(eq, x, x_2, dir='-')\n",
        "print(\"at x =\", x_2)\n",
        "print(\"right = \", right)\n",
        "print(\"left = \", left)\n",
        "\n",
        "# infinity\n",
        "right = sympy.limit(eq, x, sympy.oo)\n",
        "left = sympy.limit(eq, x, -sympy.oo)\n",
        "print(\"as x approaches infinity: \", right)\n",
        "print(\"as x approaches negative infinity: \", left)\n",
        "\n",
        "\n"
      ],
      "metadata": {
        "id": "PKwFTGQqIbOt"
      },
      "execution_count": null,
      "outputs": []
    },
    {
      "cell_type": "code",
      "source": [
        "# just testing some other limits\n",
        "\n",
        "import sympy as smp\n",
        "from sympy import symbols\n",
        "\n",
        "x = symbols('x')\n",
        "\n",
        "# limit as x approaches pi\n",
        "eq = smp.sin(x/2 + smp.sin(x))\n",
        "eq\n",
        "smp.limit(eq, x, smp.pi)\n",
        "\n",
        "# notice the direction\n",
        "eq = 2*smp.exp(1/x) / (smp.exp(1/x)+1)\n",
        "eq\n",
        "smp.limit(eq, x, 0, dir='+')\n"
      ],
      "metadata": {
        "id": "A8OVQZeClNR6"
      },
      "execution_count": null,
      "outputs": []
    },
    {
      "cell_type": "markdown",
      "source": [
        "# Limits and Slope"
      ],
      "metadata": {
        "id": "mXSpvtzVYUHn"
      }
    },
    {
      "cell_type": "code",
      "execution_count": null,
      "metadata": {
        "id": "aWIhekz4EkXj"
      },
      "outputs": [],
      "source": [
        "import matplotlib.pyplot as plt\n",
        "import numpy as np\n",
        "\n",
        "# for y = x**2\n",
        "\n",
        "x_value = 1\n",
        "y_value = x_value**2\n",
        "\n",
        "# change h value to get better answer\n",
        "h = 0.3\n",
        "y_value_2 = (x_value + h)**2\n",
        "\n",
        "zoom = 10\n",
        "xmin = x_value - zoom\n",
        "xmax = x_value + zoom\n",
        "ymin = y_value - zoom\n",
        "ymax = y_value + zoom\n",
        "\n",
        "x = np.linspace(xmin, xmax, 100)\n",
        "y = x**2\n",
        "\n",
        "slope = (y_value_2 - y_value)/h\n",
        "print(\"slope = \", slope)\n",
        "\n",
        "plt.axis([xmin,xmax,ymin,ymax]) # window size\n",
        "plt.plot(x, y)\n",
        "plt.plot([x_value],[y_value],'ro')\n",
        "plt.plot([x_value + h],[y_value_2],'ro')\n",
        "plt.axhline(y=0, color='k')\n",
        "plt.axvline(x=0, color='k')\n",
        "plt.xlabel(\"x\")\n",
        "plt.ylabel(\"y\")\n",
        "plt.title(\"Graph of y=x^2\")\n",
        "plt.show()\n"
      ]
    },
    {
      "cell_type": "code",
      "source": [
        "# loop but no graph\n",
        "import matplotlib.pyplot as plt\n",
        "import numpy as np\n",
        "\n",
        "x_value = 1\n",
        "y_value = x_value**2\n",
        "\n",
        "# smaller h values get better approximations\n",
        "for a in range(1,11):\n",
        "    h = 10**(-a)\n",
        "    y_value_2 = (x_value + h)**2\n",
        "    slope = (y_value_2 - y_value)/h\n",
        "    print(\"slope = \", slope)\n"
      ],
      "metadata": {
        "id": "c5YbCtHkoQVu"
      },
      "execution_count": null,
      "outputs": []
    },
    {
      "cell_type": "markdown",
      "source": [
        "# Limits and Slope - Another Example<br>\n",
        "y = x<sup>3</sup>"
      ],
      "metadata": {
        "id": "-Oyj4yUi7Vy2"
      }
    },
    {
      "cell_type": "code",
      "source": [
        "import matplotlib.pyplot as plt\n",
        "import numpy as np\n",
        "\n",
        "# for y = x**3\n",
        "\n",
        "x_value = 1\n",
        "y_value = x_value**3\n",
        "\n",
        "h = 0.3\n",
        "y_value_2 = (x_value + h)**3\n",
        "\n",
        "zoom = 10\n",
        "xmin = x_value - zoom\n",
        "xmax = x_value + zoom\n",
        "ymin = y_value - zoom\n",
        "ymax = y_value + zoom\n",
        "\n",
        "x = np.linspace(xmin, xmax, 100)\n",
        "y = x**3\n",
        "\n",
        "slope = (y_value_2 - y_value)/h\n",
        "print(\"slope = \", slope)\n",
        "\n",
        "plt.axis([xmin,xmax,ymin,ymax]) # window size\n",
        "plt.plot(x, y)\n",
        "plt.plot([x_value],[y_value],'ro')\n",
        "plt.plot([x_value + h],[y_value_2],'ro')\n",
        "plt.axhline(y=0, color='k')\n",
        "plt.axvline(x=0, color='k')\n",
        "plt.xlabel(\"x\")\n",
        "plt.ylabel(\"y\")\n",
        "plt.title(\"Graph of y=x^3\")\n",
        "plt.show()\n"
      ],
      "metadata": {
        "id": "Hxm-XcoD5J4L"
      },
      "execution_count": null,
      "outputs": []
    },
    {
      "cell_type": "code",
      "source": [
        "# loop but no graph\n",
        "import matplotlib.pyplot as plt\n",
        "import numpy as np\n",
        "\n",
        "x_value = 1\n",
        "y_value = x_value**3\n",
        "\n",
        "# smaller h values get better approximations\n",
        "for a in range(1,11):\n",
        "    h = 10**(-a)\n",
        "    y_value_2 = (x_value + h)**3\n",
        "    slope = (y_value_2 - y_value)/h\n",
        "    print(\"slope = \", slope)\n"
      ],
      "metadata": {
        "id": "Y62FNw42rE9o"
      },
      "execution_count": null,
      "outputs": []
    },
    {
      "cell_type": "markdown",
      "source": [
        "Limits and Slope with sliders"
      ],
      "metadata": {
        "id": "kOuAztu-80Se"
      }
    },
    {
      "cell_type": "code",
      "source": [
        "# skip this\n",
        "# y = x**2 with sliders\n",
        "\n",
        "%matplotlib inline\n",
        "from ipywidgets import interactive\n",
        "import matplotlib.pyplot as plt\n",
        "import numpy as np\n",
        "import math\n",
        "\n",
        "def f(a):\n",
        "    h = 10**(-a)\n",
        "    x_value = 1\n",
        "    y_value = x_value**2\n",
        "    y_value_2 = (x_value + h)**2\n",
        "    zoom = 0.5\n",
        "    xmin = x_value - zoom\n",
        "    xmax = x_value + zoom\n",
        "    ymin = y_value - zoom\n",
        "    ymax = y_value + zoom\n",
        "    x = np.linspace(xmin, xmax, 100)\n",
        "    y = x**2\n",
        "    slope = (y_value_2 - y_value)/h\n",
        "    print(\"slope = \", slope)\n",
        "    plt.axis([xmin,xmax,ymin,ymax]) # window size\n",
        "    plt.plot(x, y)\n",
        "    plt.plot([x_value],[y_value],'ro')\n",
        "    plt.plot([x_value + h],[y_value_2],'ro')\n",
        "    plt.axhline(y=0, color='k')\n",
        "    plt.axvline(x=0, color='k')\n",
        "    plt.xlabel(\"x\")\n",
        "    plt.ylabel(\"y\")\n",
        "    plt.title(\"Graph of y=x^2\")\n",
        "    plt.show()\n",
        "\n",
        "interactive_plot = interactive(f, a=(1,9))\n",
        "interactive_plot\n"
      ],
      "metadata": {
        "id": "fshqmbrQzlik"
      },
      "execution_count": null,
      "outputs": []
    },
    {
      "cell_type": "code",
      "source": [
        "# skip this\n",
        "# y = x**3 with sliders\n",
        "\n",
        "%matplotlib inline\n",
        "from ipywidgets import interactive\n",
        "import matplotlib.pyplot as plt\n",
        "import numpy as np\n",
        "import math\n",
        "\n",
        "def f(a):\n",
        "    h = 10**(-a)\n",
        "    x_value = 2\n",
        "    y_value = x_value**3\n",
        "    y_value_2 = (x_value + h)**3\n",
        "    zoom = 2\n",
        "    xmin = x_value - zoom\n",
        "    xmax = x_value + zoom\n",
        "    ymin = y_value - zoom\n",
        "    ymax = y_value + zoom\n",
        "    x = np.linspace(xmin, xmax, 100)\n",
        "    y = x**3\n",
        "    slope = (y_value_2 - y_value)/h\n",
        "    print(\"slope = \", slope)\n",
        "    plt.axis([xmin,xmax,ymin,ymax]) # window size\n",
        "    plt.plot(x, y)\n",
        "    plt.plot([x_value],[y_value],'ro')\n",
        "    plt.plot([x_value + h],[y_value_2],'ro')\n",
        "    plt.axhline(y=0, color='k')\n",
        "    plt.axvline(x=0, color='k')\n",
        "    plt.xlabel(\"x\")\n",
        "    plt.ylabel(\"y\")\n",
        "    plt.title(\"Graph of y=x^2\")\n",
        "    plt.show()\n",
        "\n",
        "interactive_plot = interactive(f, a=(1,9))\n",
        "interactive_plot\n"
      ],
      "metadata": {
        "id": "fWqwT4SH83yM"
      },
      "execution_count": null,
      "outputs": []
    },
    {
      "cell_type": "markdown",
      "source": [
        "# Derivatives\n"
      ],
      "metadata": {
        "id": "gAiF0_MqAMP4"
      }
    },
    {
      "cell_type": "code",
      "source": [
        "import sympy\n",
        "from sympy import symbols\n",
        "\n",
        "x,y = symbols('x y')\n",
        "\n",
        "# Put the equation here:\n",
        "expression = sympy.exp(x)*(2*x**2+3)\n",
        "derivative = sympy.diff(expression,x)\n",
        "print(\"derivative:\")\n",
        "derivative\n",
        "\n",
        "# derivative at a point in next code block"
      ],
      "metadata": {
        "id": "ho7ZAWQ8AQcW"
      },
      "execution_count": null,
      "outputs": []
    },
    {
      "cell_type": "markdown",
      "source": [
        "# Derivative at a Point"
      ],
      "metadata": {
        "id": "cef_tao2UrH5"
      }
    },
    {
      "cell_type": "code",
      "source": [
        "# Separating this keeps the nice sympy output\n",
        "\n",
        "x_value = 2\n",
        "answer = derivative.subs(x,x_value)\n",
        "print(\"slope at x =\", x_value, \" is \", answer)\n",
        "\n"
      ],
      "metadata": {
        "id": "dSwpWtEuDX82"
      },
      "execution_count": null,
      "outputs": []
    },
    {
      "cell_type": "markdown",
      "source": [
        "# Main Derivatives<br>\n",
        "Run this cell once, then run each of the next -- cells to see the derivatives"
      ],
      "metadata": {
        "id": "pAxeN_v8EU4F"
      }
    },
    {
      "cell_type": "code",
      "source": [
        "import sympy\n",
        "from sympy import symbols\n",
        "\n",
        "x,y = symbols('x y')\n"
      ],
      "metadata": {
        "id": "9jX70Zd8EaUP"
      },
      "execution_count": null,
      "outputs": []
    },
    {
      "cell_type": "code",
      "source": [
        "eq = x**3\n",
        "derivative = sympy.diff(eq,x)\n",
        "#eq\n",
        "derivative\n"
      ],
      "metadata": {
        "id": "DIKA9Jd1FGIq"
      },
      "execution_count": null,
      "outputs": []
    },
    {
      "cell_type": "code",
      "source": [
        "eq = 2**x\n",
        "derivative = sympy.diff(eq,x)\n",
        "#eq\n",
        "derivative\n"
      ],
      "metadata": {
        "id": "I7N2VRlfGmz6"
      },
      "execution_count": null,
      "outputs": []
    },
    {
      "cell_type": "code",
      "source": [
        "eq = x**3*sympy.sin(x)\n",
        "derivative = sympy.diff(eq,x)\n",
        "#eq\n",
        "derivative\n"
      ],
      "metadata": {
        "id": "Nk9reTrpG60p"
      },
      "execution_count": null,
      "outputs": []
    },
    {
      "cell_type": "markdown",
      "source": [
        "# Advanced Derivatives"
      ],
      "metadata": {
        "id": "hQ85U8T2r5zQ"
      }
    },
    {
      "cell_type": "code",
      "source": [
        "import sympy\n",
        "from sympy import symbols\n",
        "\n",
        "x,y = symbols('x y')\n",
        "\n",
        "expression = sympy.sin(x)/x\n",
        "expression"
      ],
      "metadata": {
        "id": "yzipCgmHSVNr"
      },
      "execution_count": null,
      "outputs": []
    },
    {
      "cell_type": "code",
      "source": [
        "derivative = sympy.diff(expression,x)\n",
        "print(\"derivative:\")\n",
        "derivative\n"
      ],
      "metadata": {
        "id": "2L02Ct16Wlic"
      },
      "execution_count": null,
      "outputs": []
    },
    {
      "cell_type": "code",
      "source": [
        "x_value = sympy.pi\n",
        "slope = derivative.subs(x,x_value)\n",
        "slope\n"
      ],
      "metadata": {
        "id": "aIj03znmsrrA"
      },
      "execution_count": null,
      "outputs": []
    },
    {
      "cell_type": "code",
      "source": [
        "sympy.plot(expression, derivative)"
      ],
      "metadata": {
        "id": "MXZf_ZBiWxDm"
      },
      "execution_count": null,
      "outputs": []
    }
  ]
}