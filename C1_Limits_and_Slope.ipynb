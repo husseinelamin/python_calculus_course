{
  "nbformat": 4,
  "nbformat_minor": 0,
  "metadata": {
    "colab": {
      "provenance": [],
      "include_colab_link": true
    },
    "kernelspec": {
      "name": "python3",
      "display_name": "Python 3"
    },
    "language_info": {
      "name": "python"
    },
    "widgets": {
      "application/vnd.jupyter.widget-state+json": {
        "d8eafdc25c6a4518a01a7d9cd39492e1": {
          "model_module": "@jupyter-widgets/controls",
          "model_name": "VBoxModel",
          "model_module_version": "1.5.0",
          "state": {
            "_dom_classes": [
              "widget-interact"
            ],
            "_model_module": "@jupyter-widgets/controls",
            "_model_module_version": "1.5.0",
            "_model_name": "VBoxModel",
            "_view_count": null,
            "_view_module": "@jupyter-widgets/controls",
            "_view_module_version": "1.5.0",
            "_view_name": "VBoxView",
            "box_style": "",
            "children": [
              "IPY_MODEL_6710b6c37573498795bc4ef149543b7f",
              "IPY_MODEL_c826712c2eec417cb7973ca08cae20db"
            ],
            "layout": "IPY_MODEL_996b5ce1d6e347e29da31869f57b6aee"
          }
        },
        "6710b6c37573498795bc4ef149543b7f": {
          "model_module": "@jupyter-widgets/controls",
          "model_name": "IntSliderModel",
          "model_module_version": "1.5.0",
          "state": {
            "_dom_classes": [],
            "_model_module": "@jupyter-widgets/controls",
            "_model_module_version": "1.5.0",
            "_model_name": "IntSliderModel",
            "_view_count": null,
            "_view_module": "@jupyter-widgets/controls",
            "_view_module_version": "1.5.0",
            "_view_name": "IntSliderView",
            "continuous_update": true,
            "description": "a",
            "description_tooltip": null,
            "disabled": false,
            "layout": "IPY_MODEL_535a46b55229497e89181735765041d1",
            "max": 9,
            "min": 1,
            "orientation": "horizontal",
            "readout": true,
            "readout_format": "d",
            "step": 1,
            "style": "IPY_MODEL_61c89dea329849fab92ac5d332e62630",
            "value": 5
          }
        },
        "c826712c2eec417cb7973ca08cae20db": {
          "model_module": "@jupyter-widgets/output",
          "model_name": "OutputModel",
          "model_module_version": "1.0.0",
          "state": {
            "_dom_classes": [],
            "_model_module": "@jupyter-widgets/output",
            "_model_module_version": "1.0.0",
            "_model_name": "OutputModel",
            "_view_count": null,
            "_view_module": "@jupyter-widgets/output",
            "_view_module_version": "1.0.0",
            "_view_name": "OutputView",
            "layout": "IPY_MODEL_5b84bcd8598f44678cb6105f6098ba35",
            "msg_id": "",
            "outputs": [
              {
                "output_type": "stream",
                "name": "stdout",
                "text": [
                  "slope =  2.00001000001393\n"
                ]
              },
              {
                "output_type": "display_data",
                "data": {
                  "text/plain": "<Figure size 640x480 with 1 Axes>",
                  "image/png": "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\n"
                },
                "metadata": {}
              }
            ]
          }
        },
        "996b5ce1d6e347e29da31869f57b6aee": {
          "model_module": "@jupyter-widgets/base",
          "model_name": "LayoutModel",
          "model_module_version": "1.2.0",
          "state": {
            "_model_module": "@jupyter-widgets/base",
            "_model_module_version": "1.2.0",
            "_model_name": "LayoutModel",
            "_view_count": null,
            "_view_module": "@jupyter-widgets/base",
            "_view_module_version": "1.2.0",
            "_view_name": "LayoutView",
            "align_content": null,
            "align_items": null,
            "align_self": null,
            "border": null,
            "bottom": null,
            "display": null,
            "flex": null,
            "flex_flow": null,
            "grid_area": null,
            "grid_auto_columns": null,
            "grid_auto_flow": null,
            "grid_auto_rows": null,
            "grid_column": null,
            "grid_gap": null,
            "grid_row": null,
            "grid_template_areas": null,
            "grid_template_columns": null,
            "grid_template_rows": null,
            "height": null,
            "justify_content": null,
            "justify_items": null,
            "left": null,
            "margin": null,
            "max_height": null,
            "max_width": null,
            "min_height": null,
            "min_width": null,
            "object_fit": null,
            "object_position": null,
            "order": null,
            "overflow": null,
            "overflow_x": null,
            "overflow_y": null,
            "padding": null,
            "right": null,
            "top": null,
            "visibility": null,
            "width": null
          }
        },
        "535a46b55229497e89181735765041d1": {
          "model_module": "@jupyter-widgets/base",
          "model_name": "LayoutModel",
          "model_module_version": "1.2.0",
          "state": {
            "_model_module": "@jupyter-widgets/base",
            "_model_module_version": "1.2.0",
            "_model_name": "LayoutModel",
            "_view_count": null,
            "_view_module": "@jupyter-widgets/base",
            "_view_module_version": "1.2.0",
            "_view_name": "LayoutView",
            "align_content": null,
            "align_items": null,
            "align_self": null,
            "border": null,
            "bottom": null,
            "display": null,
            "flex": null,
            "flex_flow": null,
            "grid_area": null,
            "grid_auto_columns": null,
            "grid_auto_flow": null,
            "grid_auto_rows": null,
            "grid_column": null,
            "grid_gap": null,
            "grid_row": null,
            "grid_template_areas": null,
            "grid_template_columns": null,
            "grid_template_rows": null,
            "height": null,
            "justify_content": null,
            "justify_items": null,
            "left": null,
            "margin": null,
            "max_height": null,
            "max_width": null,
            "min_height": null,
            "min_width": null,
            "object_fit": null,
            "object_position": null,
            "order": null,
            "overflow": null,
            "overflow_x": null,
            "overflow_y": null,
            "padding": null,
            "right": null,
            "top": null,
            "visibility": null,
            "width": null
          }
        },
        "61c89dea329849fab92ac5d332e62630": {
          "model_module": "@jupyter-widgets/controls",
          "model_name": "SliderStyleModel",
          "model_module_version": "1.5.0",
          "state": {
            "_model_module": "@jupyter-widgets/controls",
            "_model_module_version": "1.5.0",
            "_model_name": "SliderStyleModel",
            "_view_count": null,
            "_view_module": "@jupyter-widgets/base",
            "_view_module_version": "1.2.0",
            "_view_name": "StyleView",
            "description_width": "",
            "handle_color": null
          }
        },
        "5b84bcd8598f44678cb6105f6098ba35": {
          "model_module": "@jupyter-widgets/base",
          "model_name": "LayoutModel",
          "model_module_version": "1.2.0",
          "state": {
            "_model_module": "@jupyter-widgets/base",
            "_model_module_version": "1.2.0",
            "_model_name": "LayoutModel",
            "_view_count": null,
            "_view_module": "@jupyter-widgets/base",
            "_view_module_version": "1.2.0",
            "_view_name": "LayoutView",
            "align_content": null,
            "align_items": null,
            "align_self": null,
            "border": null,
            "bottom": null,
            "display": null,
            "flex": null,
            "flex_flow": null,
            "grid_area": null,
            "grid_auto_columns": null,
            "grid_auto_flow": null,
            "grid_auto_rows": null,
            "grid_column": null,
            "grid_gap": null,
            "grid_row": null,
            "grid_template_areas": null,
            "grid_template_columns": null,
            "grid_template_rows": null,
            "height": null,
            "justify_content": null,
            "justify_items": null,
            "left": null,
            "margin": null,
            "max_height": null,
            "max_width": null,
            "min_height": null,
            "min_width": null,
            "object_fit": null,
            "object_position": null,
            "order": null,
            "overflow": null,
            "overflow_x": null,
            "overflow_y": null,
            "padding": null,
            "right": null,
            "top": null,
            "visibility": null,
            "width": null
          }
        },
        "8fc660b3e8d04925822f7ab408e85ef0": {
          "model_module": "@jupyter-widgets/controls",
          "model_name": "VBoxModel",
          "model_module_version": "1.5.0",
          "state": {
            "_dom_classes": [
              "widget-interact"
            ],
            "_model_module": "@jupyter-widgets/controls",
            "_model_module_version": "1.5.0",
            "_model_name": "VBoxModel",
            "_view_count": null,
            "_view_module": "@jupyter-widgets/controls",
            "_view_module_version": "1.5.0",
            "_view_name": "VBoxView",
            "box_style": "",
            "children": [
              "IPY_MODEL_7a5ae056c7304123bed2a8d4c3db0150",
              "IPY_MODEL_8a95acee9be741b68d27393c127a9337"
            ],
            "layout": "IPY_MODEL_028bc4d6c6a84981b87ec44abba6f447"
          }
        },
        "7a5ae056c7304123bed2a8d4c3db0150": {
          "model_module": "@jupyter-widgets/controls",
          "model_name": "IntSliderModel",
          "model_module_version": "1.5.0",
          "state": {
            "_dom_classes": [],
            "_model_module": "@jupyter-widgets/controls",
            "_model_module_version": "1.5.0",
            "_model_name": "IntSliderModel",
            "_view_count": null,
            "_view_module": "@jupyter-widgets/controls",
            "_view_module_version": "1.5.0",
            "_view_name": "IntSliderView",
            "continuous_update": true,
            "description": "a",
            "description_tooltip": null,
            "disabled": false,
            "layout": "IPY_MODEL_7e688973398545a194a508ce1de9393e",
            "max": 9,
            "min": 1,
            "orientation": "horizontal",
            "readout": true,
            "readout_format": "d",
            "step": 1,
            "style": "IPY_MODEL_28efa4a40a3044a4a85561288845f803",
            "value": 5
          }
        },
        "8a95acee9be741b68d27393c127a9337": {
          "model_module": "@jupyter-widgets/output",
          "model_name": "OutputModel",
          "model_module_version": "1.0.0",
          "state": {
            "_dom_classes": [],
            "_model_module": "@jupyter-widgets/output",
            "_model_module_version": "1.0.0",
            "_model_name": "OutputModel",
            "_view_count": null,
            "_view_module": "@jupyter-widgets/output",
            "_view_module_version": "1.0.0",
            "_view_name": "OutputView",
            "layout": "IPY_MODEL_dbb5a89b48104eaa857b7194f42bdc4d",
            "msg_id": "",
            "outputs": [
              {
                "output_type": "stream",
                "name": "stdout",
                "text": [
                  "slope =  12.000060000261213\n"
                ]
              },
              {
                "output_type": "display_data",
                "data": {
                  "text/plain": "<Figure size 640x480 with 1 Axes>",
                  "image/png": "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\n"
                },
                "metadata": {}
              }
            ]
          }
        },
        "028bc4d6c6a84981b87ec44abba6f447": {
          "model_module": "@jupyter-widgets/base",
          "model_name": "LayoutModel",
          "model_module_version": "1.2.0",
          "state": {
            "_model_module": "@jupyter-widgets/base",
            "_model_module_version": "1.2.0",
            "_model_name": "LayoutModel",
            "_view_count": null,
            "_view_module": "@jupyter-widgets/base",
            "_view_module_version": "1.2.0",
            "_view_name": "LayoutView",
            "align_content": null,
            "align_items": null,
            "align_self": null,
            "border": null,
            "bottom": null,
            "display": null,
            "flex": null,
            "flex_flow": null,
            "grid_area": null,
            "grid_auto_columns": null,
            "grid_auto_flow": null,
            "grid_auto_rows": null,
            "grid_column": null,
            "grid_gap": null,
            "grid_row": null,
            "grid_template_areas": null,
            "grid_template_columns": null,
            "grid_template_rows": null,
            "height": null,
            "justify_content": null,
            "justify_items": null,
            "left": null,
            "margin": null,
            "max_height": null,
            "max_width": null,
            "min_height": null,
            "min_width": null,
            "object_fit": null,
            "object_position": null,
            "order": null,
            "overflow": null,
            "overflow_x": null,
            "overflow_y": null,
            "padding": null,
            "right": null,
            "top": null,
            "visibility": null,
            "width": null
          }
        },
        "7e688973398545a194a508ce1de9393e": {
          "model_module": "@jupyter-widgets/base",
          "model_name": "LayoutModel",
          "model_module_version": "1.2.0",
          "state": {
            "_model_module": "@jupyter-widgets/base",
            "_model_module_version": "1.2.0",
            "_model_name": "LayoutModel",
            "_view_count": null,
            "_view_module": "@jupyter-widgets/base",
            "_view_module_version": "1.2.0",
            "_view_name": "LayoutView",
            "align_content": null,
            "align_items": null,
            "align_self": null,
            "border": null,
            "bottom": null,
            "display": null,
            "flex": null,
            "flex_flow": null,
            "grid_area": null,
            "grid_auto_columns": null,
            "grid_auto_flow": null,
            "grid_auto_rows": null,
            "grid_column": null,
            "grid_gap": null,
            "grid_row": null,
            "grid_template_areas": null,
            "grid_template_columns": null,
            "grid_template_rows": null,
            "height": null,
            "justify_content": null,
            "justify_items": null,
            "left": null,
            "margin": null,
            "max_height": null,
            "max_width": null,
            "min_height": null,
            "min_width": null,
            "object_fit": null,
            "object_position": null,
            "order": null,
            "overflow": null,
            "overflow_x": null,
            "overflow_y": null,
            "padding": null,
            "right": null,
            "top": null,
            "visibility": null,
            "width": null
          }
        },
        "28efa4a40a3044a4a85561288845f803": {
          "model_module": "@jupyter-widgets/controls",
          "model_name": "SliderStyleModel",
          "model_module_version": "1.5.0",
          "state": {
            "_model_module": "@jupyter-widgets/controls",
            "_model_module_version": "1.5.0",
            "_model_name": "SliderStyleModel",
            "_view_count": null,
            "_view_module": "@jupyter-widgets/base",
            "_view_module_version": "1.2.0",
            "_view_name": "StyleView",
            "description_width": "",
            "handle_color": null
          }
        },
        "dbb5a89b48104eaa857b7194f42bdc4d": {
          "model_module": "@jupyter-widgets/base",
          "model_name": "LayoutModel",
          "model_module_version": "1.2.0",
          "state": {
            "_model_module": "@jupyter-widgets/base",
            "_model_module_version": "1.2.0",
            "_model_name": "LayoutModel",
            "_view_count": null,
            "_view_module": "@jupyter-widgets/base",
            "_view_module_version": "1.2.0",
            "_view_name": "LayoutView",
            "align_content": null,
            "align_items": null,
            "align_self": null,
            "border": null,
            "bottom": null,
            "display": null,
            "flex": null,
            "flex_flow": null,
            "grid_area": null,
            "grid_auto_columns": null,
            "grid_auto_flow": null,
            "grid_auto_rows": null,
            "grid_column": null,
            "grid_gap": null,
            "grid_row": null,
            "grid_template_areas": null,
            "grid_template_columns": null,
            "grid_template_rows": null,
            "height": null,
            "justify_content": null,
            "justify_items": null,
            "left": null,
            "margin": null,
            "max_height": null,
            "max_width": null,
            "min_height": null,
            "min_width": null,
            "object_fit": null,
            "object_position": null,
            "order": null,
            "overflow": null,
            "overflow_x": null,
            "overflow_y": null,
            "padding": null,
            "right": null,
            "top": null,
            "visibility": null,
            "width": null
          }
        }
      }
    }
  },
  "cells": [
    {
      "cell_type": "markdown",
      "metadata": {
        "id": "view-in-github",
        "colab_type": "text"
      },
      "source": [
        "<a href=\"https://colab.research.google.com/github/husseinelamin/python_calculus_course/blob/main/C1_Limits_and_Slope.ipynb\" target=\"_parent\"><img src=\"https://colab.research.google.com/assets/colab-badge.svg\" alt=\"Open In Colab\"/></a>"
      ]
    },
    {
      "cell_type": "markdown",
      "source": [
        "# Limits - where is the function undefined?<br>\n",
        "Example function: y = $\\frac{3x^2}{x^2 - 4}$"
      ],
      "metadata": {
        "id": "Z3zJ1822YcJK"
      }
    },
    {
      "cell_type": "code",
      "source": [
        "import sympy\n",
        "from sympy import symbols\n",
        "from sympy.solvers import solve\n",
        "\n",
        "x = symbols('x')\n",
        "\n",
        "# Put the equation here\n",
        "eq = x**2 - 4\n",
        "\n",
        "# solve() sets the equation equal to zero\n",
        "print(\"x = \", solve(eq,x))"
      ],
      "metadata": {
        "id": "ky7eVgS-YfYX",
        "outputId": "7b12e215-e036-4bb1-c825-1dbce32fa08f",
        "colab": {
          "base_uri": "https://localhost:8080/"
        }
      },
      "execution_count": 18,
      "outputs": [
        {
          "output_type": "stream",
          "name": "stdout",
          "text": [
            "x =  [-2, 2]\n"
          ]
        }
      ]
    },
    {
      "cell_type": "markdown",
      "source": [
        "# Limits - approaching from right or left<br>\n",
        "Example function: y = $\\frac{3x^2}{x^2 - 4}$\n"
      ],
      "metadata": {
        "id": "Hh8N6mUpaMdw"
      }
    },
    {
      "cell_type": "code",
      "source": [
        "x = -2\n",
        "h = 0.0001\n",
        "\n",
        "# for y = (3*x**2)/(x**2 - 4)\n",
        "\n",
        "y_right = (3*(x+h)**2)/((x+h)**2 - 4)\n",
        "y_left = (3*(x-h)**2)/((x-h)**2 - 4)\n",
        "\n",
        "print(\"y_right = \", y_right)\n",
        "print(\"y_left = \", y_left)\n",
        "\n",
        "if round(y_right) != round(y_left):\n",
        "    print(\"Limit does not exist at x = \", x)\n",
        "\n"
      ],
      "metadata": {
        "id": "BbsN6hStaWiB",
        "outputId": "e20edffc-6c77-4fd6-8836-6e97d2d16323",
        "colab": {
          "base_uri": "https://localhost:8080/"
        }
      },
      "execution_count": 19,
      "outputs": [
        {
          "output_type": "stream",
          "name": "stdout",
          "text": [
            "y_right =  -29997.750018749215\n",
            "y_left =  30002.250018690786\n",
            "Limit does not exist at x =  -2\n"
          ]
        }
      ]
    },
    {
      "cell_type": "markdown",
      "source": [
        "# Limits - simple example to compare"
      ],
      "metadata": {
        "id": "7lNhk3IOuFIH"
      }
    },
    {
      "cell_type": "code",
      "source": [
        "x = 2\n",
        "h = 0.0001\n",
        "\n",
        "# for y = 3*x\n",
        "\n",
        "y_right = 3*(x+h)\n",
        "y_left = 3*(x-h)\n",
        "\n",
        "print(\"y_right = \", y_right)\n",
        "print(\"y_left = \", y_left)\n",
        "\n",
        "if round(y_right) != round(y_left):\n",
        "    print(\"Limit does not exist at x = \", x)\n",
        "else:\n",
        "    print(\"Limit at x = \", x, \" is \", round(y_right))\n"
      ],
      "metadata": {
        "id": "g288NoKKuJNn",
        "outputId": "ef69b2a8-4c80-4e65-c083-c04c43b2f91e",
        "colab": {
          "base_uri": "https://localhost:8080/"
        }
      },
      "execution_count": 20,
      "outputs": [
        {
          "output_type": "stream",
          "name": "stdout",
          "text": [
            "y_right =  6.000300000000001\n",
            "y_left =  5.9997\n",
            "Limit at x =  2  is  6\n"
          ]
        }
      ]
    },
    {
      "cell_type": "markdown",
      "source": [
        "# Limits - as x approaches infinity<br>\n",
        "Example function: y = $\\frac{3x^2}{x^2 - 4}$"
      ],
      "metadata": {
        "id": "vWHyOKl0d1Hb"
      }
    },
    {
      "cell_type": "code",
      "source": [
        "\n",
        "# for equation y = (3*x**2)/(x**2 - 4)\n",
        "\n",
        "for x_value in [10, 100, 1000, 10000]:\n",
        "    limit = (3*x_value**2)/(x_value**2 - 4)\n",
        "    print(\"x = \", x_value, \" Limit = \", limit)\n",
        "\n"
      ],
      "metadata": {
        "id": "yc89vSPzeFEn",
        "outputId": "0a520d5e-a38e-48ce-a28a-13426672b4be",
        "colab": {
          "base_uri": "https://localhost:8080/"
        }
      },
      "execution_count": 21,
      "outputs": [
        {
          "output_type": "stream",
          "name": "stdout",
          "text": [
            "x =  10  Limit =  3.125\n",
            "x =  100  Limit =  3.0012004801920766\n",
            "x =  1000  Limit =  3.000012000048\n",
            "x =  10000  Limit =  3.0000001200000046\n"
          ]
        }
      ]
    },
    {
      "cell_type": "markdown",
      "source": [
        "# Limits - graphing<br>\n",
        "Example function: y = $\\frac{3x^2}{x^2 - 4}$"
      ],
      "metadata": {
        "id": "vzrfumrFjR8o"
      }
    },
    {
      "cell_type": "code",
      "source": [
        "import matplotlib.pyplot as plt\n",
        "import numpy as np\n",
        "\n",
        "# for equation y = (3*x**2)/(x**2 - 4)\n",
        "x_value = 0\n",
        "y_value = (3*x_value**2)/(x_value**2 - 4)\n",
        "\n",
        "zoom = 10\n",
        "xmin = x_value - zoom\n",
        "xmax = x_value + zoom\n",
        "ymin = y_value - zoom\n",
        "ymax = y_value + zoom\n",
        "\n",
        "x = np.linspace(xmin, xmax, 100)\n",
        "y = (3*x**2)/(x**2 - 4)\n",
        "#y = 3*x*(x-2)/(x-2)\n",
        "\n",
        "plt.axis([xmin,xmax,ymin,ymax]) # window size\n",
        "plt.plot(x, y)\n",
        "plt.plot([x_value],[y_value],'ro')\n",
        "#plt.plot([xmin,xmax],[3,3],'r--')\n",
        "plt.axhline(y=0, color='k')\n",
        "plt.axvline(x=0, color='k')\n",
        "plt.xlabel(\"x\")\n",
        "plt.ylabel(\"y\")\n",
        "plt.title(\"Graph of y = (3*x**2) / (x**2 - 4)\")\n",
        "plt.show()\n"
      ],
      "metadata": {
        "id": "JXC8nlG1jVT3",
        "outputId": "0774afb0-7586-4053-fd6b-fd625c53950c",
        "colab": {
          "base_uri": "https://localhost:8080/",
          "height": 54
        }
      },
      "execution_count": 22,
      "outputs": [
        {
          "output_type": "display_data",
          "data": {
            "text/plain": [
              "<Figure size 640x480 with 1 Axes>"
            ],
            "image/png": "[encoded data removed]"
          },
          "metadata": {}
        }
      ]
    },
    {
      "cell_type": "markdown",
      "source": [
        "# Limits with Sympy<br>\n",
        "Example function: y = $\\frac{3x^2}{x^2 - 4}$"
      ],
      "metadata": {
        "id": "rK2QCuG0IW3v"
      }
    },
    {
      "cell_type": "code",
      "source": [
        "import sympy\n",
        "from sympy import symbols\n",
        "\n",
        "x = symbols('x')\n",
        "\n",
        "# Put the equation here\n",
        "eq = (3*x**2)/(x**2 - 4)\n",
        "\n",
        "# critical values\n",
        "x_1 = 2\n",
        "x_2 = -2\n",
        "\n",
        "# limit(expression, variable, value)\n",
        "\n",
        "# first critical point\n",
        "right = sympy.limit(eq, x, x_1, dir='+')\n",
        "left = sympy.limit(eq, x, x_1, dir='-')\n",
        "print(\"at x =\", x_1)\n",
        "print(\"right = \", right)\n",
        "print(\"left = \", left)\n",
        "\n",
        "# second critical point\n",
        "right = sympy.limit(eq, x, x_2, dir='+')\n",
        "left = sympy.limit(eq, x, x_2, dir='-')\n",
        "print(\"at x =\", x_2)\n",
        "print(\"right = \", right)\n",
        "print(\"left = \", left)\n",
        "\n",
        "# infinity\n",
        "right = sympy.limit(eq, x, sympy.oo)\n",
        "left = sympy.limit(eq, x, -sympy.oo)\n",
        "print(\"as x approaches infinity: \", right)\n",
        "print(\"as x approaches negative infinity: \", left)\n",
        "\n",
        "\n"
      ],
      "metadata": {
        "id": "PKwFTGQqIbOt",
        "outputId": "dad14dd5-08b3-4473-e3cb-01f092d0f79a",
        "colab": {
          "base_uri": "https://localhost:8080/"
        }
      },
      "execution_count": 23,
      "outputs": [
        {
          "output_type": "stream",
          "name": "stdout",
          "text": [
            "at x = 2\n",
            "right =  oo\n",
            "left =  -oo\n",
            "at x = -2\n",
            "right =  -oo\n",
            "left =  oo\n",
            "as x approaches infinity:  3\n",
            "as x approaches negative infinity:  3\n"
          ]
        }
      ]
    },
    {
      "cell_type": "code",
      "source": [
        "# just testing some other limits\n",
        "\n",
        "import sympy as smp\n",
        "from sympy import symbols\n",
        "\n",
        "x = symbols('x')\n",
        "\n",
        "# limit as x approaches pi\n",
        "eq = smp.sin(x/2 + smp.sin(x))\n",
        "eq\n",
        "smp.limit(eq, x, smp.pi)\n",
        "\n",
        "# notice the direction\n",
        "eq = 2*smp.exp(1/x) / (smp.exp(1/x)+1)\n",
        "eq\n",
        "smp.limit(eq, x, 0, dir='+')\n"
      ],
      "metadata": {
        "id": "A8OVQZeClNR6",
        "outputId": "740b7f8d-d4f3-4418-fcc7-cf9005f6cd7c",
        "colab": {
          "base_uri": "https://localhost:8080/",
          "height": 57
        }
      },
      "execution_count": 24,
      "outputs": [
        {
          "output_type": "execute_result",
          "data": {
            "text/plain": [
              "2"
            ],
            "text/latex": "$\\displaystyle 2$"
          },
          "metadata": {},
          "execution_count": 24
        }
      ]
    },
    {
      "cell_type": "markdown",
      "source": [
        "# Limits and Slope"
      ],
      "metadata": {
        "id": "mXSpvtzVYUHn"
      }
    },
    {
      "cell_type": "code",
      "execution_count": 25,
      "metadata": {
        "id": "aWIhekz4EkXj",
        "outputId": "fc506d76-4e1f-43eb-e6e7-32b981f5a825",
        "colab": {
          "base_uri": "https://localhost:8080/",
          "height": 489
        }
      },
      "outputs": [
        {
          "output_type": "stream",
          "name": "stdout",
          "text": [
            "slope =  2.3000000000000007\n"
          ]
        },
        {
          "output_type": "display_data",
          "data": {
            "text/plain": [
              "<Figure size 640x480 with 1 Axes>"
            ],
            "image/png": "[encoded data removed]"
          },
          "metadata": {}
        }
      ],
      "source": [
        "import matplotlib.pyplot as plt\n",
        "import numpy as np\n",
        "\n",
        "# for y = x**2\n",
        "\n",
        "x_value = 1\n",
        "y_value = x_value**2\n",
        "\n",
        "# smaller h value's give more accurate answers\n",
        "h = 0.3\n",
        "y_value_2 = (x_value + h)**2\n",
        "\n",
        "zoom = 10\n",
        "xmin = x_value - zoom\n",
        "xmax = x_value + zoom\n",
        "ymin = y_value - zoom\n",
        "ymax = y_value + zoom\n",
        "\n",
        "x = np.linspace(xmin, xmax, 100)\n",
        "y = x**2\n",
        "\n",
        "slope = (y_value_2 - y_value)/h\n",
        "print(\"slope = \", slope)\n",
        "\n",
        "plt.axis([xmin,xmax,ymin,ymax]) # window size\n",
        "plt.plot(x, y)\n",
        "plt.plot([x_value],[y_value],'ro')\n",
        "plt.plot([x_value + h],[y_value_2],'ro')\n",
        "plt.axhline(y=0, color='k')\n",
        "plt.axvline(x=0, color='k')\n",
        "plt.xlabel(\"x\")\n",
        "plt.ylabel(\"y\")\n",
        "plt.title(\"Graph of y=x^2\")\n",
        "plt.show()\n"
      ]
    },
    {
      "cell_type": "code",
      "source": [
        "# loop but no graph\n",
        "import matplotlib.pyplot as plt\n",
        "import numpy as np\n",
        "\n",
        "x_value = 1\n",
        "y_value = x_value**2\n",
        "\n",
        "# smaller h values get better approximations\n",
        "for a in range(1,11):\n",
        "    h = 10**(-a)\n",
        "    y_value_2 = (x_value + h)**2\n",
        "    slope = (y_value_2 - y_value)/h\n",
        "    print(\"slope = \", slope)\n"
      ],
      "metadata": {
        "id": "c5YbCtHkoQVu",
        "outputId": "27cf2689-94c9-4c3b-fc87-2be1c48de389",
        "colab": {
          "base_uri": "https://localhost:8080/"
        }
      },
      "execution_count": 26,
      "outputs": [
        {
          "output_type": "stream",
          "name": "stdout",
          "text": [
            "slope =  2.100000000000002\n",
            "slope =  2.0100000000000007\n",
            "slope =  2.0009999999996975\n",
            "slope =  2.000099999999172\n",
            "slope =  2.00001000001393\n",
            "slope =  2.0000009999243673\n",
            "slope =  2.0000001010878066\n",
            "slope =  1.999999987845058\n",
            "slope =  2.000000165480742\n",
            "slope =  2.000000165480742\n"
          ]
        }
      ]
    },
    {
      "cell_type": "markdown",
      "source": [
        "# Limits and Slope - Another Example<br>\n",
        "y = x<sup>3</sup>"
      ],
      "metadata": {
        "id": "-Oyj4yUi7Vy2"
      }
    },
    {
      "cell_type": "code",
      "source": [
        "import matplotlib.pyplot as plt\n",
        "import numpy as np\n",
        "\n",
        "# for y = x**3\n",
        "\n",
        "x_value = 1\n",
        "y_value = x_value**3\n",
        "\n",
        "h = 0.3\n",
        "y_value_2 = (x_value + h)**3\n",
        "\n",
        "zoom = 10\n",
        "xmin = x_value - zoom\n",
        "xmax = x_value + zoom\n",
        "ymin = y_value - zoom\n",
        "ymax = y_value + zoom\n",
        "\n",
        "x = np.linspace(xmin, xmax, 100)\n",
        "y = x**3\n",
        "\n",
        "slope = (y_value_2 - y_value)/h\n",
        "print(\"slope = \", slope)\n",
        "\n",
        "plt.axis([xmin,xmax,ymin,ymax]) # window size\n",
        "plt.plot(x, y)\n",
        "plt.plot([x_value],[y_value],'ro')\n",
        "plt.plot([x_value + h],[y_value_2],'ro')\n",
        "plt.axhline(y=0, color='k')\n",
        "plt.axvline(x=0, color='k')\n",
        "plt.xlabel(\"x\")\n",
        "plt.ylabel(\"y\")\n",
        "plt.title(\"Graph of y=x^3\")\n",
        "plt.show()\n"
      ],
      "metadata": {
        "id": "Hxm-XcoD5J4L",
        "outputId": "ebaa8959-e292-447d-a20b-152119b6e658",
        "colab": {
          "base_uri": "https://localhost:8080/",
          "height": 489
        }
      },
      "execution_count": 27,
      "outputs": [
        {
          "output_type": "stream",
          "name": "stdout",
          "text": [
            "slope =  3.99\n"
          ]
        },
        {
          "output_type": "display_data",
          "data": {
            "text/plain": [
              "<Figure size 640x480 with 1 Axes>"
            ],
            "image/png": "[encoded data removed]"
          },
          "metadata": {}
        }
      ]
    },
    {
      "cell_type": "code",
      "source": [
        "# loop but no graph\n",
        "import matplotlib.pyplot as plt\n",
        "import numpy as np\n",
        "\n",
        "x_value = 1\n",
        "y_value = x_value**3\n",
        "\n",
        "# smaller h values get better approximations\n",
        "for a in range(1,11):\n",
        "    h = 10**(-a)\n",
        "    y_value_2 = (x_value + h)**3\n",
        "    slope = (y_value_2 - y_value)/h\n",
        "    print(\"slope = \", slope)\n"
      ],
      "metadata": {
        "id": "Y62FNw42rE9o",
        "outputId": "ec7b865d-405f-4025-a980-b20147e170d6",
        "colab": {
          "base_uri": "https://localhost:8080/"
        }
      },
      "execution_count": 28,
      "outputs": [
        {
          "output_type": "stream",
          "name": "stdout",
          "text": [
            "slope =  3.310000000000004\n",
            "slope =  3.0301000000000133\n",
            "slope =  3.0030009999997276\n",
            "slope =  3.0003000099987354\n",
            "slope =  3.000030000110953\n",
            "slope =  3.0000029997978572\n",
            "slope =  3.000000301511818\n",
            "slope =  3.0000000039720476\n",
            "slope =  3.000000248221113\n",
            "slope =  3.000000248221113\n"
          ]
        }
      ]
    },
    {
      "cell_type": "markdown",
      "source": [
        "Limits and Slope with sliders"
      ],
      "metadata": {
        "id": "kOuAztu-80Se"
      }
    },
    {
      "cell_type": "code",
      "source": [
        "# skip this\n",
        "# y = x**2 with sliders\n",
        "\n",
        "%matplotlib inline\n",
        "from ipywidgets import interactive\n",
        "import matplotlib.pyplot as plt\n",
        "import numpy as np\n",
        "import math\n",
        "\n",
        "def f(a):\n",
        "    h = 10**(-a)\n",
        "    x_value = 1\n",
        "    y_value = x_value**2\n",
        "    y_value_2 = (x_value + h)**2\n",
        "    zoom = 0.5\n",
        "    xmin = x_value - zoom\n",
        "    xmax = x_value + zoom\n",
        "    ymin = y_value - zoom\n",
        "    ymax = y_value + zoom\n",
        "    x = np.linspace(xmin, xmax, 100)\n",
        "    y = x**2\n",
        "    slope = (y_value_2 - y_value)/h\n",
        "    print(\"slope = \", slope)\n",
        "    plt.axis([xmin,xmax,ymin,ymax]) # window size\n",
        "    plt.plot(x, y)\n",
        "    plt.plot([x_value],[y_value],'ro')\n",
        "    plt.plot([x_value + h],[y_value_2],'ro')\n",
        "    plt.axhline(y=0, color='k')\n",
        "    plt.axvline(x=0, color='k')\n",
        "    plt.xlabel(\"x\")\n",
        "    plt.ylabel(\"y\")\n",
        "    plt.title(\"Graph of y=x^2\")\n",
        "    plt.show()\n",
        "\n",
        "interactive_plot = interactive(f, a=(1,9))\n",
        "interactive_plot\n"
      ],
      "metadata": {
        "id": "fshqmbrQzlik",
        "outputId": "90154c86-df0a-4f8d-f9ab-3b849a367214",
        "colab": {
          "base_uri": "https://localhost:8080/",
          "height": 521,
          "referenced_widgets": [
            "d8eafdc25c6a4518a01a7d9cd39492e1",
            "6710b6c37573498795bc4ef149543b7f",
            "c826712c2eec417cb7973ca08cae20db",
            "996b5ce1d6e347e29da31869f57b6aee",
            "535a46b55229497e89181735765041d1",
            "61c89dea329849fab92ac5d332e62630",
            "5b84bcd8598f44678cb6105f6098ba35"
          ]
        }
      },
      "execution_count": 29,
      "outputs": [
        {
          "output_type": "display_data",
          "data": {
            "text/plain": [
              "interactive(children=(IntSlider(value=5, description='a', max=9, min=1), Output()), _dom_classes=('widget-inte…"
            ],
            "application/vnd.jupyter.widget-view+json": {
              "version_major": 2,
              "version_minor": 0,
              "model_id": "d8eafdc25c6a4518a01a7d9cd39492e1"
            }
          },
          "metadata": {}
        }
      ]
    },
    {
      "cell_type": "code",
      "source": [
        "# skip this\n",
        "# y = x**3 with sliders\n",
        "\n",
        "%matplotlib inline\n",
        "from ipywidgets import interactive\n",
        "import matplotlib.pyplot as plt\n",
        "import numpy as np\n",
        "import math\n",
        "\n",
        "def f(a):\n",
        "    h = 10**(-a)\n",
        "    x_value = 2\n",
        "    y_value = x_value**3\n",
        "    y_value_2 = (x_value + h)**3\n",
        "    zoom = 2\n",
        "    xmin = x_value - zoom\n",
        "    xmax = x_value + zoom\n",
        "    ymin = y_value - zoom\n",
        "    ymax = y_value + zoom\n",
        "    x = np.linspace(xmin, xmax, 100)\n",
        "    y = x**3\n",
        "    slope = (y_value_2 - y_value)/h\n",
        "    print(\"slope = \", slope)\n",
        "    plt.axis([xmin,xmax,ymin,ymax]) # window size\n",
        "    plt.plot(x, y)\n",
        "    plt.plot([x_value],[y_value],'ro')\n",
        "    plt.plot([x_value + h],[y_value_2],'ro')\n",
        "    plt.axhline(y=0, color='k')\n",
        "    plt.axvline(x=0, color='k')\n",
        "    plt.xlabel(\"x\")\n",
        "    plt.ylabel(\"y\")\n",
        "    plt.title(\"Graph of y=x^2\")\n",
        "    plt.show()\n",
        "\n",
        "interactive_plot = interactive(f, a=(1,9))\n",
        "interactive_plot\n"
      ],
      "metadata": {
        "id": "fWqwT4SH83yM",
        "outputId": "02d0de73-339c-464c-9eee-f0d98e007708",
        "colab": {
          "base_uri": "https://localhost:8080/",
          "height": 521,
          "referenced_widgets": [
            "8fc660b3e8d04925822f7ab408e85ef0",
            "7a5ae056c7304123bed2a8d4c3db0150",
            "8a95acee9be741b68d27393c127a9337",
            "028bc4d6c6a84981b87ec44abba6f447",
            "7e688973398545a194a508ce1de9393e",
            "28efa4a40a3044a4a85561288845f803",
            "dbb5a89b48104eaa857b7194f42bdc4d"
          ]
        }
      },
      "execution_count": 30,
      "outputs": [
        {
          "output_type": "display_data",
          "data": {
            "text/plain": [
              "interactive(children=(IntSlider(value=5, description='a', max=9, min=1), Output()), _dom_classes=('widget-inte…"
            ],
            "application/vnd.jupyter.widget-view+json": {
              "version_major": 2,
              "version_minor": 0,
              "model_id": "8fc660b3e8d04925822f7ab408e85ef0"
            }
          },
          "metadata": {}
        }
      ]
    },
    {
      "cell_type": "markdown",
      "source": [
        "# Derivatives\n"
      ],
      "metadata": {
        "id": "gAiF0_MqAMP4"
      }
    },
    {
      "cell_type": "code",
      "source": [
        "import sympy\n",
        "from sympy import symbols\n",
        "\n",
        "x,y = symbols('x y')\n",
        "\n",
        "# Put the equation here:\n",
        "expression = sympy.exp(x)*(2*x**2+3)\n",
        "derivative = sympy.diff(expression,x)\n",
        "print(\"derivative:\")\n",
        "derivative\n",
        "print(expression)\n",
        "\n",
        "# derivative at a point in next code block"
      ],
      "metadata": {
        "id": "ho7ZAWQ8AQcW",
        "outputId": "7f9c593d-bd1e-4d8d-935e-4e792d458fd4",
        "colab": {
          "base_uri": "https://localhost:8080/"
        }
      },
      "execution_count": 31,
      "outputs": [
        {
          "output_type": "stream",
          "name": "stdout",
          "text": [
            "derivative:\n",
            "(2*x**2 + 3)*exp(x)\n"
          ]
        }
      ]
    },
    {
      "cell_type": "markdown",
      "source": [],
      "metadata": {
        "id": "q-u2l22JubEN"
      }
    },
    {
      "cell_type": "markdown",
      "source": [
        "# Derivative at a Point"
      ],
      "metadata": {
        "id": "cef_tao2UrH5"
      }
    },
    {
      "cell_type": "code",
      "source": [
        "# Separating this keeps the nice sympy output\n",
        "\n",
        "x_value = 2\n",
        "# subs is used to substitute a variable with a value\n",
        "answer = derivative.subs(x,x_value)\n",
        "print(\"slope at x =\", x_value, \" is \", answer)\n",
        "\n"
      ],
      "metadata": {
        "id": "dSwpWtEuDX82",
        "outputId": "e79a6ef5-8965-46c0-dcb6-5cacd85a0302",
        "colab": {
          "base_uri": "https://localhost:8080/"
        }
      },
      "execution_count": 32,
      "outputs": [
        {
          "output_type": "stream",
          "name": "stdout",
          "text": [
            "slope at x = 2  is  19*exp(2)\n"
          ]
        }
      ]
    },
    {
      "cell_type": "markdown",
      "source": [
        "# Main Derivatives<br>\n",
        "Run this cell once, then run each of the next -- cells to see the derivatives"
      ],
      "metadata": {
        "id": "pAxeN_v8EU4F"
      }
    },
    {
      "cell_type": "code",
      "source": [
        "import sympy\n",
        "from sympy import symbols\n",
        "\n",
        "x,y = symbols('x y')\n"
      ],
      "metadata": {
        "id": "9jX70Zd8EaUP"
      },
      "execution_count": 33,
      "outputs": []
    },
    {
      "cell_type": "code",
      "source": [
        "eq = x**3\n",
        "derivative = sympy.diff(eq,x)\n",
        "print('equation is', eq)\n",
        "print('derivative is', derivative)\n"
      ],
      "metadata": {
        "id": "DIKA9Jd1FGIq",
        "outputId": "27f1308d-b708-4da4-e5f4-bbf9627a3eaf",
        "colab": {
          "base_uri": "https://localhost:8080/"
        }
      },
      "execution_count": 34,
      "outputs": [
        {
          "output_type": "stream",
          "name": "stdout",
          "text": [
            "equation is x**3\n",
            "derivative is 3*x**2\n"
          ]
        }
      ]
    },
    {
      "cell_type": "code",
      "source": [
        "eq = 2**x\n",
        "derivative = sympy.diff(eq,x)\n",
        "print('equation is', eq)\n",
        "print('derivative is', derivative)\n"
      ],
      "metadata": {
        "id": "I7N2VRlfGmz6",
        "outputId": "8cdf453b-2452-44c3-eb6a-a5519103adb4",
        "colab": {
          "base_uri": "https://localhost:8080/"
        }
      },
      "execution_count": 35,
      "outputs": [
        {
          "output_type": "stream",
          "name": "stdout",
          "text": [
            "equation is 2**x\n",
            "derivative is 2**x*log(2)\n"
          ]
        }
      ]
    },
    {
      "cell_type": "code",
      "source": [
        "eq = x**3*sympy.sin(x)\n",
        "derivative = sympy.diff(eq,x)\n",
        "print('equation is', eq)\n",
        "print('derivative is', derivative)\n"
      ],
      "metadata": {
        "id": "Nk9reTrpG60p",
        "outputId": "f9c3ce58-514f-481e-9743-3bbad5eaed2b",
        "colab": {
          "base_uri": "https://localhost:8080/"
        }
      },
      "execution_count": 36,
      "outputs": [
        {
          "output_type": "stream",
          "name": "stdout",
          "text": [
            "equation is x**3*sin(x)\n",
            "derivative is x**3*cos(x) + 3*x**2*sin(x)\n"
          ]
        }
      ]
    },
    {
      "cell_type": "markdown",
      "source": [
        "# Advanced Derivatives"
      ],
      "metadata": {
        "id": "hQ85U8T2r5zQ"
      }
    },
    {
      "cell_type": "code",
      "source": [
        "import sympy\n",
        "from sympy import symbols\n",
        "\n",
        "x,y = symbols('x y')\n",
        "\n",
        "expression = sympy.sin(x)/x\n",
        "expression"
      ],
      "metadata": {
        "id": "yzipCgmHSVNr",
        "outputId": "49fb39e8-0162-4783-b1c7-4977566cd5ac",
        "colab": {
          "base_uri": "https://localhost:8080/",
          "height": 53
        }
      },
      "execution_count": 37,
      "outputs": [
        {
          "output_type": "execute_result",
          "data": {
            "text/plain": [
              "sin(x)/x"
            ],
            "text/latex": "$\\displaystyle \\frac{\\sin{\\left(x \\right)}}{x}$"
          },
          "metadata": {},
          "execution_count": 37
        }
      ]
    },
    {
      "cell_type": "code",
      "source": [
        "derivative = sympy.diff(expression,x)\n",
        "print(\"derivative:\")\n",
        "derivative\n"
      ],
      "metadata": {
        "id": "2L02Ct16Wlic",
        "outputId": "9b819ba4-5be8-4d27-ddfe-a0c37a765c7b",
        "colab": {
          "base_uri": "https://localhost:8080/",
          "height": 70
        }
      },
      "execution_count": 38,
      "outputs": [
        {
          "output_type": "stream",
          "name": "stdout",
          "text": [
            "derivative:\n"
          ]
        },
        {
          "output_type": "execute_result",
          "data": {
            "text/plain": [
              "cos(x)/x - sin(x)/x**2"
            ],
            "text/latex": "$\\displaystyle \\frac{\\cos{\\left(x \\right)}}{x} - \\frac{\\sin{\\left(x \\right)}}{x^{2}}$"
          },
          "metadata": {},
          "execution_count": 38
        }
      ]
    },
    {
      "cell_type": "code",
      "source": [
        "x_value = sympy.pi\n",
        "slope = derivative.subs(x,x_value)\n",
        "slope\n"
      ],
      "metadata": {
        "id": "aIj03znmsrrA",
        "outputId": "5fa600f5-8cfb-41e5-ef8a-ecf60b76c12a",
        "colab": {
          "base_uri": "https://localhost:8080/",
          "height": 51
        }
      },
      "execution_count": 39,
      "outputs": [
        {
          "output_type": "execute_result",
          "data": {
            "text/plain": [
              "-1/pi"
            ],
            "text/latex": "$\\displaystyle - \\frac{1}{\\pi}$"
          },
          "metadata": {},
          "execution_count": 39
        }
      ]
    },
    {
      "cell_type": "code",
      "source": [
        "sympy.plot(expression, derivative)"
      ],
      "metadata": {
        "id": "MXZf_ZBiWxDm",
        "outputId": "0d0ffcba-7875-4f29-b7ed-1ee86995770f",
        "colab": {
          "base_uri": "https://localhost:8080/",
          "height": 504
        }
      },
      "execution_count": 40,
      "outputs": [
        {
          "output_type": "display_data",
          "data": {
            "text/plain": [
              "<Figure size 640x480 with 1 Axes>"
            ],
            "image/png": "[encoded data removed]"
          },
          "metadata": {}
        },
        {
          "output_type": "execute_result",
          "data": {
            "text/plain": [
              "<sympy.plotting.backends.matplotlibbackend.matplotlib.MatplotlibBackend at 0x7972c5086f50>"
            ]
          },
          "metadata": {},
          "execution_count": 40
        }
      ]
    }
  ]
}