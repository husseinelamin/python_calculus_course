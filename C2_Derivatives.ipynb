{
  "nbformat": 4,
  "nbformat_minor": 0,
  "metadata": {
    "colab": {
      "provenance": [],
      "include_colab_link": true
    },
    "kernelspec": {
      "name": "python3",
      "display_name": "Python 3"
    },
    "language_info": {
      "name": "python"
    }
  },
  "cells": [
    {
      "cell_type": "markdown",
      "metadata": {
        "id": "view-in-github",
        "colab_type": "text"
      },
      "source": [
        "<a href=\"https://colab.research.google.com/github/husseinelamin/python_calculus_course/blob/main/C2_Derivatives.ipynb\" target=\"_parent\"><img src=\"https://colab.research.google.com/assets/colab-badge.svg\" alt=\"Open In Colab\"/></a>"
      ]
    },
    {
      "cell_type": "markdown",
      "source": [
        "# Power Rule"
      ],
      "metadata": {
        "id": "cOqQ7MylIFVR"
      }
    },
    {
      "cell_type": "code",
      "execution_count": 2,
      "metadata": {
        "id": "BOtuFm-tHmNy",
        "colab": {
          "base_uri": "https://localhost:8080/",
          "height": 38
        },
        "outputId": "d6814680-8e4f-467b-e924-a05e822fe474"
      },
      "outputs": [
        {
          "output_type": "execute_result",
          "data": {
            "text/plain": [
              "sec(2*x)"
            ],
            "text/latex": "$\\displaystyle \\sec{\\left(2 x \\right)}$"
          },
          "metadata": {},
          "execution_count": 2
        }
      ],
      "source": [
        "import sympy\n",
        "from sympy import symbols\n",
        "\n",
        "x,y = symbols('x y')\n",
        "\n",
        "eq = sympy.sec(2*x)\n",
        "# (x/2)-(sympy.sin(4*x)*sympy.cos(4*x)/8)\n",
        "derivative = sympy.diff(eq,x)\n",
        "\n",
        "eq"
      ]
    },
    {
      "cell_type": "code",
      "source": [
        "derivative"
      ],
      "metadata": {
        "id": "vBFM4zR-JQyi",
        "colab": {
          "base_uri": "https://localhost:8080/",
          "height": 38
        },
        "outputId": "0bd77587-025e-466d-f67a-0f74ec94cc10"
      },
      "execution_count": 3,
      "outputs": [
        {
          "output_type": "execute_result",
          "data": {
            "text/plain": [
              "2*tan(2*x)*sec(2*x)"
            ],
            "text/latex": "$\\displaystyle 2 \\tan{\\left(2 x \\right)} \\sec{\\left(2 x \\right)}$"
          },
          "metadata": {},
          "execution_count": 3
        }
      ]
    },
    {
      "cell_type": "code",
      "source": [
        "x_value = 3\n",
        "answer = derivative.subs(x,x_value)\n",
        "print(answer)"
      ],
      "metadata": {
        "id": "0BijHklnVo6a",
        "colab": {
          "base_uri": "https://localhost:8080/"
        },
        "outputId": "cefd025a-fcd7-4800-87ff-1f652755acd8"
      },
      "execution_count": 4,
      "outputs": [
        {
          "output_type": "stream",
          "name": "stdout",
          "text": [
            "2*tan(6)*sec(6)\n"
          ]
        }
      ]
    },
    {
      "cell_type": "markdown",
      "source": [
        "# Product Rule"
      ],
      "metadata": {
        "id": "8-DObd0UGsUH"
      }
    },
    {
      "cell_type": "markdown",
      "source": [
        "Derivative of f(x)*g(x) is equal to the derivative of \\[f\\] multiplied by \\[g\\] plus \\[f\\] multiplied by the derivative of \\[g\\]."
      ],
      "metadata": {
        "id": "qH2d9b1W1CdX"
      }
    },
    {
      "cell_type": "code",
      "source": [
        "import sympy\n",
        "from sympy import symbols\n",
        "\n",
        "x,y = symbols('x y')\n",
        "\n",
        "eq = x**2*sympy.exp(2*x)\n",
        "#eq = (x**3)*(x**2 +2*x)\n",
        "derivative = sympy.diff(eq,x)\n",
        "eq"
      ],
      "metadata": {
        "id": "SOwBLkKMmus2",
        "colab": {
          "base_uri": "https://localhost:8080/",
          "height": 38
        },
        "outputId": "26b3a1b3-272c-4fd8-cfbc-750507bb5f53"
      },
      "execution_count": 5,
      "outputs": [
        {
          "output_type": "execute_result",
          "data": {
            "text/plain": [
              "x**2*exp(2*x)"
            ],
            "text/latex": "$\\displaystyle x^{2} e^{2 x}$"
          },
          "metadata": {},
          "execution_count": 5
        }
      ]
    },
    {
      "cell_type": "code",
      "source": [
        "derivative"
      ],
      "metadata": {
        "id": "_JKit8eQG18z",
        "colab": {
          "base_uri": "https://localhost:8080/",
          "height": 38
        },
        "outputId": "331f0a9f-dd53-47c2-c358-0e16f86d271e"
      },
      "execution_count": 6,
      "outputs": [
        {
          "output_type": "execute_result",
          "data": {
            "text/plain": [
              "2*x**2*exp(2*x) + 2*x*exp(2*x)"
            ],
            "text/latex": "$\\displaystyle 2 x^{2} e^{2 x} + 2 x e^{2 x}$"
          },
          "metadata": {},
          "execution_count": 6
        }
      ]
    },
    {
      "cell_type": "markdown",
      "source": [
        "# Quotient Rule"
      ],
      "metadata": {
        "id": "IlMuH7VsIPYy"
      }
    },
    {
      "cell_type": "markdown",
      "source": [
        "Basically, you take the derivative of \\[f\\] multiplied by \\[g\\], subtract \\[f\\] multiplied by the derivative of \\[g\\], and divide all that by \\[[g(x)]^2\\]."
      ],
      "metadata": {
        "id": "L4pfsIXf1pgx"
      }
    },
    {
      "cell_type": "code",
      "source": [
        "import sympy\n",
        "from sympy import symbols\n",
        "\n",
        "x,y = symbols('x y')\n",
        "\n",
        "eq = (x**3 - 1) / (x**2 - 1)\n",
        "derivative = sympy.diff(eq,x)\n",
        "eq"
      ],
      "metadata": {
        "id": "0NfA98erITwD",
        "colab": {
          "base_uri": "https://localhost:8080/",
          "height": 55
        },
        "outputId": "a8040183-6e03-4b5e-af16-e0a276481237"
      },
      "execution_count": 7,
      "outputs": [
        {
          "output_type": "execute_result",
          "data": {
            "text/plain": [
              "(x**3 - 1)/(x**2 - 1)"
            ],
            "text/latex": "$\\displaystyle \\frac{x^{3} - 1}{x^{2} - 1}$"
          },
          "metadata": {},
          "execution_count": 7
        }
      ]
    },
    {
      "cell_type": "code",
      "source": [
        "derivative"
      ],
      "metadata": {
        "id": "ta5-O5cpJXts",
        "colab": {
          "base_uri": "https://localhost:8080/",
          "height": 62
        },
        "outputId": "7ef4c1db-984d-4f6b-85ab-0929e3adb5f4"
      },
      "execution_count": 8,
      "outputs": [
        {
          "output_type": "execute_result",
          "data": {
            "text/plain": [
              "3*x**2/(x**2 - 1) - 2*x*(x**3 - 1)/(x**2 - 1)**2"
            ],
            "text/latex": "$\\displaystyle \\frac{3 x^{2}}{x^{2} - 1} - \\frac{2 x \\left(x^{3} - 1\\right)}{\\left(x^{2} - 1\\right)^{2}}$"
          },
          "metadata": {},
          "execution_count": 8
        }
      ]
    },
    {
      "cell_type": "code",
      "source": [
        "x_value = 0\n",
        "answer = derivative.subs(x,x_value)\n",
        "print(answer)"
      ],
      "metadata": {
        "id": "wBTtGZNSWJpd",
        "colab": {
          "base_uri": "https://localhost:8080/"
        },
        "outputId": "51f7c9d2-1931-400f-9025-b8bed39044a4"
      },
      "execution_count": 9,
      "outputs": [
        {
          "output_type": "stream",
          "name": "stdout",
          "text": [
            "0\n"
          ]
        }
      ]
    },
    {
      "cell_type": "markdown",
      "source": [
        "# Chain Rule"
      ],
      "metadata": {
        "id": "3_w7ptr3IoeM"
      }
    },
    {
      "cell_type": "markdown",
      "source": [
        "Chain Rule\n",
        "\n",
        "---\n",
        "\n",
        "\n",
        "Remember if there are two sets of derivatives within one another, you take the derivative of the outer function and multiply it by the derivative of the inner function to calculate the correct answer.\n",
        "\n",
        "example\n",
        "\n",
        "y = (x^2 + 1)^3\n",
        "---\n",
        "dy = 3(x^2+1) * *2x*\n",
        "\n"
      ],
      "metadata": {
        "id": "32oKJ4ygzKR6"
      }
    },
    {
      "cell_type": "markdown",
      "source": [
        "Multiply by the derivative of the inner function"
      ],
      "metadata": {
        "id": "3j8rKMX3bpI4"
      }
    },
    {
      "cell_type": "code",
      "source": [
        "import sympy\n",
        "from sympy import symbols\n",
        "\n",
        "x,y = symbols('x y')\n",
        "\n",
        "eq = (x**2 + 8)**4\n",
        "derivative = sympy.diff(eq,x)\n",
        "eq"
      ],
      "metadata": {
        "id": "1eYbuU1VbkM_",
        "colab": {
          "base_uri": "https://localhost:8080/",
          "height": 41
        },
        "outputId": "b0cccadd-0a06-4240-9cfb-dc1ad2036c02"
      },
      "execution_count": 10,
      "outputs": [
        {
          "output_type": "execute_result",
          "data": {
            "text/plain": [
              "(x**2 + 8)**4"
            ],
            "text/latex": "$\\displaystyle \\left(x^{2} + 8\\right)^{4}$"
          },
          "metadata": {},
          "execution_count": 10
        }
      ]
    },
    {
      "cell_type": "code",
      "source": [
        "derivative"
      ],
      "metadata": {
        "id": "bqb9xS0ZbqqC",
        "colab": {
          "base_uri": "https://localhost:8080/",
          "height": 41
        },
        "outputId": "43d992f5-2989-4c91-e52d-9c0ab38ed768"
      },
      "execution_count": 11,
      "outputs": [
        {
          "output_type": "execute_result",
          "data": {
            "text/plain": [
              "8*x*(x**2 + 8)**3"
            ],
            "text/latex": "$\\displaystyle 8 x \\left(x^{2} + 8\\right)^{3}$"
          },
          "metadata": {},
          "execution_count": 11
        }
      ]
    },
    {
      "cell_type": "markdown",
      "source": [
        "Another example"
      ],
      "metadata": {
        "id": "HJnTPDK5cRjJ"
      }
    },
    {
      "cell_type": "code",
      "source": [
        "import sympy\n",
        "from sympy import symbols\n",
        "\n",
        "x,y = symbols('x y')\n",
        "\n",
        "eq = sympy.sqrt(x**2 + 8)\n",
        "derivative = sympy.diff(eq,x)\n",
        "eq"
      ],
      "metadata": {
        "id": "oHxOvznmIcaC",
        "colab": {
          "base_uri": "https://localhost:8080/",
          "height": 40
        },
        "outputId": "b10aa67d-4993-4c25-deba-4fed2f27107d"
      },
      "execution_count": 12,
      "outputs": [
        {
          "output_type": "execute_result",
          "data": {
            "text/plain": [
              "sqrt(x**2 + 8)"
            ],
            "text/latex": "$\\displaystyle \\sqrt{x^{2} + 8}$"
          },
          "metadata": {},
          "execution_count": 12
        }
      ]
    },
    {
      "cell_type": "code",
      "source": [
        "derivative"
      ],
      "metadata": {
        "id": "Q3t0S6ErI1Zr",
        "colab": {
          "base_uri": "https://localhost:8080/",
          "height": 52
        },
        "outputId": "838e486a-5e3a-4fdc-9cf1-6764aa0e9eea"
      },
      "execution_count": 13,
      "outputs": [
        {
          "output_type": "execute_result",
          "data": {
            "text/plain": [
              "x/sqrt(x**2 + 8)"
            ],
            "text/latex": "$\\displaystyle \\frac{x}{\\sqrt{x^{2} + 8}}$"
          },
          "metadata": {},
          "execution_count": 13
        }
      ]
    },
    {
      "cell_type": "code",
      "source": [
        "x_value = 0\n",
        "answer = derivative.subs(x,x_value)\n",
        "print(answer)"
      ],
      "metadata": {
        "id": "moNdl2yCWM4g",
        "colab": {
          "base_uri": "https://localhost:8080/"
        },
        "outputId": "a02b6a67-17dd-40e4-c438-4f162eef34e0"
      },
      "execution_count": 14,
      "outputs": [
        {
          "output_type": "stream",
          "name": "stdout",
          "text": [
            "0\n"
          ]
        }
      ]
    },
    {
      "cell_type": "markdown",
      "source": [
        "More examples"
      ],
      "metadata": {
        "id": "yAYuNO9Ho7oe"
      }
    },
    {
      "cell_type": "code",
      "source": [
        "import sympy\n",
        "from sympy import symbols\n",
        "\n",
        "x,y = symbols('x y')\n",
        "\n",
        "eq = sympy.sin(x**3)\n",
        "derivative = sympy.diff(eq,x)\n",
        "eq"
      ],
      "metadata": {
        "id": "d8kbhZ8qamTF",
        "colab": {
          "base_uri": "https://localhost:8080/",
          "height": 38
        },
        "outputId": "c34581fc-25fa-4d37-87cc-b63de98b8e09"
      },
      "execution_count": 15,
      "outputs": [
        {
          "output_type": "execute_result",
          "data": {
            "text/plain": [
              "sin(x**3)"
            ],
            "text/latex": "$\\displaystyle \\sin{\\left(x^{3} \\right)}$"
          },
          "metadata": {},
          "execution_count": 15
        }
      ]
    },
    {
      "cell_type": "code",
      "source": [
        "derivative"
      ],
      "metadata": {
        "id": "VhrFHtjrawUE",
        "colab": {
          "base_uri": "https://localhost:8080/",
          "height": 38
        },
        "outputId": "5a908e54-0dff-4d77-ec9b-95e45eb73eaa"
      },
      "execution_count": 16,
      "outputs": [
        {
          "output_type": "execute_result",
          "data": {
            "text/plain": [
              "3*x**2*cos(x**3)"
            ],
            "text/latex": "$\\displaystyle 3 x^{2} \\cos{\\left(x^{3} \\right)}$"
          },
          "metadata": {},
          "execution_count": 16
        }
      ]
    },
    {
      "cell_type": "markdown",
      "source": [
        "Another example"
      ],
      "metadata": {
        "id": "Ex_UyZORcgMl"
      }
    },
    {
      "cell_type": "code",
      "source": [
        "import sympy\n",
        "from sympy import symbols\n",
        "\n",
        "x,y = symbols('x y')\n",
        "\n",
        "eq = sympy.sin(sympy.cos(x))\n",
        "derivative = sympy.diff(eq,x)\n",
        "eq"
      ],
      "metadata": {
        "id": "rZk1LDSyo-Wc",
        "colab": {
          "base_uri": "https://localhost:8080/",
          "height": 38
        },
        "outputId": "2dfb3ec6-49d3-4781-abb3-4ee68102d3f3"
      },
      "execution_count": 17,
      "outputs": [
        {
          "output_type": "execute_result",
          "data": {
            "text/plain": [
              "sin(cos(x))"
            ],
            "text/latex": "$\\displaystyle \\sin{\\left(\\cos{\\left(x \\right)} \\right)}$"
          },
          "metadata": {},
          "execution_count": 17
        }
      ]
    },
    {
      "cell_type": "code",
      "source": [
        "derivative"
      ],
      "metadata": {
        "id": "42_JBkXOpGHl",
        "colab": {
          "base_uri": "https://localhost:8080/",
          "height": 38
        },
        "outputId": "108386c7-e179-4f8d-f7ba-f366f495fb65"
      },
      "execution_count": 18,
      "outputs": [
        {
          "output_type": "execute_result",
          "data": {
            "text/plain": [
              "-sin(x)*cos(cos(x))"
            ],
            "text/latex": "$\\displaystyle - \\sin{\\left(x \\right)} \\cos{\\left(\\cos{\\left(x \\right)} \\right)}$"
          },
          "metadata": {},
          "execution_count": 18
        }
      ]
    },
    {
      "cell_type": "markdown",
      "source": [
        "# Exponential Functions<br>\n",
        "Remember in sympy \"exp(x)\" means e<sup>x</sup>"
      ],
      "metadata": {
        "id": "Lq8OGR0iJeWL"
      }
    },
    {
      "cell_type": "code",
      "source": [
        "import sympy\n",
        "from sympy import symbols\n",
        "\n",
        "x,y = symbols('x y')\n",
        "\n",
        "eq = sympy.exp(x)\n",
        "derivative = sympy.diff(eq,x)\n",
        "eq"
      ],
      "metadata": {
        "id": "oRkXfwZsJn44",
        "colab": {
          "base_uri": "https://localhost:8080/",
          "height": 38
        },
        "outputId": "bda5f53d-3865-4ebf-a962-f27b427a98b9"
      },
      "execution_count": 19,
      "outputs": [
        {
          "output_type": "execute_result",
          "data": {
            "text/plain": [
              "exp(x)"
            ],
            "text/latex": "$\\displaystyle e^{x}$"
          },
          "metadata": {},
          "execution_count": 19
        }
      ]
    },
    {
      "cell_type": "code",
      "source": [
        "# simplest derivative in calculus\n",
        "derivative"
      ],
      "metadata": {
        "id": "hR0mxBPTJ6aB",
        "colab": {
          "base_uri": "https://localhost:8080/",
          "height": 38
        },
        "outputId": "253a7fa1-62ef-403e-f9e0-a2731e07dad0"
      },
      "execution_count": 20,
      "outputs": [
        {
          "output_type": "execute_result",
          "data": {
            "text/plain": [
              "exp(x)"
            ],
            "text/latex": "$\\displaystyle e^{x}$"
          },
          "metadata": {},
          "execution_count": 20
        }
      ]
    },
    {
      "cell_type": "markdown",
      "source": [
        "Other numbers as the base"
      ],
      "metadata": {
        "id": "K6-PODPQLTlO"
      }
    },
    {
      "cell_type": "code",
      "source": [
        "import sympy\n",
        "from sympy import symbols\n",
        "\n",
        "x,y = symbols('x y')\n",
        "\n",
        "eq = 3**x\n",
        "derivative = sympy.diff(eq,x)\n",
        "eq"
      ],
      "metadata": {
        "id": "gm_B1eBDLdb6",
        "colab": {
          "base_uri": "https://localhost:8080/",
          "height": 37
        },
        "outputId": "e5446d62-11b1-4e11-96d4-66f06f5b76ed"
      },
      "execution_count": 21,
      "outputs": [
        {
          "output_type": "execute_result",
          "data": {
            "text/plain": [
              "3**x"
            ],
            "text/latex": "$\\displaystyle 3^{x}$"
          },
          "metadata": {},
          "execution_count": 21
        }
      ]
    },
    {
      "cell_type": "code",
      "source": [
        "# remember log means \"natural log\" here\n",
        "derivative"
      ],
      "metadata": {
        "id": "4hZINjk9LjuC",
        "colab": {
          "base_uri": "https://localhost:8080/",
          "height": 37
        },
        "outputId": "be6e5c4e-fc40-47fe-8c8c-238b5dcd5bc6"
      },
      "execution_count": 22,
      "outputs": [
        {
          "output_type": "execute_result",
          "data": {
            "text/plain": [
              "3**x*log(3)"
            ],
            "text/latex": "$\\displaystyle 3^{x} \\log{\\left(3 \\right)}$"
          },
          "metadata": {},
          "execution_count": 22
        }
      ]
    },
    {
      "cell_type": "markdown",
      "source": [
        "# Logarithmic Functions<br>\n",
        "Remember \"log(x)\" in sympy is \"ln(x)\" in math notation"
      ],
      "metadata": {
        "id": "dsjwwDxwKY28"
      }
    },
    {
      "cell_type": "code",
      "source": [
        "import sympy\n",
        "from sympy import symbols\n",
        "\n",
        "x,y = symbols('x y')\n",
        "\n",
        "eq = sympy.log(x)\n",
        "derivative = sympy.diff(eq,x)\n",
        "eq"
      ],
      "metadata": {
        "id": "-yTxwdSoK1pF",
        "colab": {
          "base_uri": "https://localhost:8080/",
          "height": 38
        },
        "outputId": "120c7c8d-8ce2-4b90-c3ff-04d683acf3a2"
      },
      "execution_count": 23,
      "outputs": [
        {
          "output_type": "execute_result",
          "data": {
            "text/plain": [
              "log(x)"
            ],
            "text/latex": "$\\displaystyle \\log{\\left(x \\right)}$"
          },
          "metadata": {},
          "execution_count": 23
        }
      ]
    },
    {
      "cell_type": "code",
      "source": [
        "derivative"
      ],
      "metadata": {
        "id": "dSbw8ClxK41l",
        "colab": {
          "base_uri": "https://localhost:8080/",
          "height": 51
        },
        "outputId": "32651c19-bf67-4fde-fba6-f82a0c8303c7"
      },
      "execution_count": 24,
      "outputs": [
        {
          "output_type": "execute_result",
          "data": {
            "text/plain": [
              "1/x"
            ],
            "text/latex": "$\\displaystyle \\frac{1}{x}$"
          },
          "metadata": {},
          "execution_count": 24
        }
      ]
    },
    {
      "cell_type": "markdown",
      "source": [
        "Change-of-Base Formula"
      ],
      "metadata": {
        "id": "8QfjbHqaMhw5"
      }
    },
    {
      "cell_type": "code",
      "source": [
        "import sympy\n",
        "from sympy import symbols\n",
        "\n",
        "x,y = symbols('x y')\n",
        "\n",
        "base = 10\n",
        "eq = sympy.log(x,base)\n",
        "derivative = sympy.diff(eq,x)\n",
        "eq"
      ],
      "metadata": {
        "id": "0E5yUt4bMOS8",
        "colab": {
          "base_uri": "https://localhost:8080/",
          "height": 57
        },
        "outputId": "7c89b977-3682-48d7-c4b0-df9579d2d545"
      },
      "execution_count": 25,
      "outputs": [
        {
          "output_type": "execute_result",
          "data": {
            "text/plain": [
              "log(x)/log(10)"
            ],
            "text/latex": "$\\displaystyle \\frac{\\log{\\left(x \\right)}}{\\log{\\left(10 \\right)}}$"
          },
          "metadata": {},
          "execution_count": 25
        }
      ]
    },
    {
      "cell_type": "code",
      "source": [
        "derivative"
      ],
      "metadata": {
        "id": "fV8BhHrgMsM8",
        "colab": {
          "base_uri": "https://localhost:8080/",
          "height": 55
        },
        "outputId": "03642dd4-44d0-4149-d1b4-b13d913bb427"
      },
      "execution_count": 26,
      "outputs": [
        {
          "output_type": "execute_result",
          "data": {
            "text/plain": [
              "1/(x*log(10))"
            ],
            "text/latex": "$\\displaystyle \\frac{1}{x \\log{\\left(10 \\right)}}$"
          },
          "metadata": {},
          "execution_count": 26
        }
      ]
    },
    {
      "cell_type": "markdown",
      "source": [
        "# Trigonometric Functions<br>\n",
        "y = sin(x)"
      ],
      "metadata": {
        "id": "BwXLSit-M74Z"
      }
    },
    {
      "cell_type": "code",
      "source": [
        "import sympy\n",
        "from sympy import symbols\n",
        "\n",
        "x,y = symbols('x y')\n",
        "\n",
        "eq = sympy.sin(x)\n",
        "derivative = sympy.diff(eq,x)\n",
        "eq"
      ],
      "metadata": {
        "id": "Vcp8C-1hNAWn",
        "colab": {
          "base_uri": "https://localhost:8080/",
          "height": 38
        },
        "outputId": "c4fa7f5c-9c61-46b8-dba8-6f2d2f4adcd9"
      },
      "execution_count": 27,
      "outputs": [
        {
          "output_type": "execute_result",
          "data": {
            "text/plain": [
              "sin(x)"
            ],
            "text/latex": "$\\displaystyle \\sin{\\left(x \\right)}$"
          },
          "metadata": {},
          "execution_count": 27
        }
      ]
    },
    {
      "cell_type": "code",
      "source": [
        "derivative"
      ],
      "metadata": {
        "id": "n3e-QgsYNFxq",
        "colab": {
          "base_uri": "https://localhost:8080/",
          "height": 38
        },
        "outputId": "21a59390-1c2b-4e1c-8982-54ed6141e772"
      },
      "execution_count": 28,
      "outputs": [
        {
          "output_type": "execute_result",
          "data": {
            "text/plain": [
              "cos(x)"
            ],
            "text/latex": "$\\displaystyle \\cos{\\left(x \\right)}$"
          },
          "metadata": {},
          "execution_count": 28
        }
      ]
    },
    {
      "cell_type": "markdown",
      "source": [
        "y = cos(x)"
      ],
      "metadata": {
        "id": "TtGqqr3PNX22"
      }
    },
    {
      "cell_type": "code",
      "source": [
        "import sympy\n",
        "from sympy import symbols\n",
        "\n",
        "x,y = symbols('x y')\n",
        "\n",
        "eq = sympy.cos(x)\n",
        "derivative = sympy.diff(eq,x)\n",
        "eq"
      ],
      "metadata": {
        "id": "o7Pu7J0vNauK",
        "colab": {
          "base_uri": "https://localhost:8080/",
          "height": 38
        },
        "outputId": "966dec4c-9bed-41e6-a079-30af8be6ba61"
      },
      "execution_count": 29,
      "outputs": [
        {
          "output_type": "execute_result",
          "data": {
            "text/plain": [
              "cos(x)"
            ],
            "text/latex": "$\\displaystyle \\cos{\\left(x \\right)}$"
          },
          "metadata": {},
          "execution_count": 29
        }
      ]
    },
    {
      "cell_type": "code",
      "source": [
        "derivative"
      ],
      "metadata": {
        "id": "sF-cQYRjNfDp",
        "colab": {
          "base_uri": "https://localhost:8080/",
          "height": 38
        },
        "outputId": "d5c27c9a-d340-4e1a-817b-a51c9a6c007b"
      },
      "execution_count": 30,
      "outputs": [
        {
          "output_type": "execute_result",
          "data": {
            "text/plain": [
              "-sin(x)"
            ],
            "text/latex": "$\\displaystyle - \\sin{\\left(x \\right)}$"
          },
          "metadata": {},
          "execution_count": 30
        }
      ]
    },
    {
      "cell_type": "markdown",
      "source": [
        "y = tan(x)"
      ],
      "metadata": {
        "id": "uZn27_qvN4O3"
      }
    },
    {
      "cell_type": "code",
      "source": [
        "import sympy\n",
        "from sympy import symbols\n",
        "\n",
        "x,y = symbols('x y')\n",
        "\n",
        "eq = sympy.tan(x)\n",
        "derivative = sympy.diff(eq,x)\n",
        "eq"
      ],
      "metadata": {
        "id": "yBKAsJ7nN6v_",
        "colab": {
          "base_uri": "https://localhost:8080/",
          "height": 38
        },
        "outputId": "ee2c3701-0772-45b6-fa65-79f968b9f076"
      },
      "execution_count": 31,
      "outputs": [
        {
          "output_type": "execute_result",
          "data": {
            "text/plain": [
              "tan(x)"
            ],
            "text/latex": "$\\displaystyle \\tan{\\left(x \\right)}$"
          },
          "metadata": {},
          "execution_count": 31
        }
      ]
    },
    {
      "cell_type": "code",
      "source": [
        "derivative"
      ],
      "metadata": {
        "id": "RbNd_nZyN-ES",
        "colab": {
          "base_uri": "https://localhost:8080/",
          "height": 38
        },
        "outputId": "86a34895-3cbe-4a2c-c27e-332ae5074e54"
      },
      "execution_count": 32,
      "outputs": [
        {
          "output_type": "execute_result",
          "data": {
            "text/plain": [
              "tan(x)**2 + 1"
            ],
            "text/latex": "$\\displaystyle \\tan^{2}{\\left(x \\right)} + 1$"
          },
          "metadata": {},
          "execution_count": 32
        }
      ]
    },
    {
      "cell_type": "markdown",
      "source": [
        "remember tan^2 +1 = sec^2 = 1/(cos^2)"
      ],
      "metadata": {
        "id": "ECm7ozQYAqTN"
      }
    },
    {
      "cell_type": "code",
      "source": [
        "other = sympy.trigsimp(derivative)\n",
        "other"
      ],
      "metadata": {
        "id": "Oz5e9DLB6s78",
        "colab": {
          "base_uri": "https://localhost:8080/",
          "height": 55
        },
        "outputId": "0f2c44fa-c379-42e8-9182-18bae116f51c"
      },
      "execution_count": 35,
      "outputs": [
        {
          "output_type": "execute_result",
          "data": {
            "text/plain": [
              "cos(x)**(-2)"
            ],
            "text/latex": "$\\displaystyle \\frac{1}{\\cos^{2}{\\left(x \\right)}}$"
          },
          "metadata": {},
          "execution_count": 35
        }
      ]
    },
    {
      "cell_type": "markdown",
      "source": [
        "y = cot(x)"
      ],
      "metadata": {
        "id": "j60PMDarN_6R"
      }
    },
    {
      "cell_type": "code",
      "source": [
        "import sympy\n",
        "from sympy import symbols\n",
        "\n",
        "x,y = symbols('x y')\n",
        "\n",
        "eq = sympy.cot(x)\n",
        "derivative = sympy.diff(eq,x)\n",
        "eq"
      ],
      "metadata": {
        "id": "lf0bjHs2OD-r",
        "colab": {
          "base_uri": "https://localhost:8080/",
          "height": 38
        },
        "outputId": "98c87fe4-1555-48f6-9457-80ad41efe1db"
      },
      "execution_count": 36,
      "outputs": [
        {
          "output_type": "execute_result",
          "data": {
            "text/plain": [
              "cot(x)"
            ],
            "text/latex": "$\\displaystyle \\cot{\\left(x \\right)}$"
          },
          "metadata": {},
          "execution_count": 36
        }
      ]
    },
    {
      "cell_type": "code",
      "source": [
        "derivative"
      ],
      "metadata": {
        "id": "_s8TuMQ7OHMh",
        "colab": {
          "base_uri": "https://localhost:8080/",
          "height": 38
        },
        "outputId": "9bf420c8-1156-4301-f26a-5e3019fa7fb6"
      },
      "execution_count": 37,
      "outputs": [
        {
          "output_type": "execute_result",
          "data": {
            "text/plain": [
              "-cot(x)**2 - 1"
            ],
            "text/latex": "$\\displaystyle - \\cot^{2}{\\left(x \\right)} - 1$"
          },
          "metadata": {},
          "execution_count": 37
        }
      ]
    },
    {
      "cell_type": "markdown",
      "source": [
        "remember -cot^2 - 1 is the same as cos^2"
      ],
      "metadata": {
        "id": "Do6fFm72BD2y"
      }
    },
    {
      "cell_type": "markdown",
      "source": [
        "y = sec(x)"
      ],
      "metadata": {
        "id": "JHjarl-fONZo"
      }
    },
    {
      "cell_type": "code",
      "source": [
        "import sympy\n",
        "from sympy import symbols\n",
        "\n",
        "x,y = symbols('x y')\n",
        "\n",
        "eq = sympy.sec(x)\n",
        "derivative = sympy.diff(eq,x)\n",
        "eq"
      ],
      "metadata": {
        "id": "UOiHDAkAOQ3H",
        "colab": {
          "base_uri": "https://localhost:8080/",
          "height": 38
        },
        "outputId": "f2964535-1130-4097-e9a2-0c10288cd3e8"
      },
      "execution_count": 38,
      "outputs": [
        {
          "output_type": "execute_result",
          "data": {
            "text/plain": [
              "sec(x)"
            ],
            "text/latex": "$\\displaystyle \\sec{\\left(x \\right)}$"
          },
          "metadata": {},
          "execution_count": 38
        }
      ]
    },
    {
      "cell_type": "code",
      "source": [
        "derivative"
      ],
      "metadata": {
        "id": "nlDSwi2ZOUYt",
        "colab": {
          "base_uri": "https://localhost:8080/",
          "height": 38
        },
        "outputId": "4510cf2b-c243-41f0-f525-9fac7673b6c7"
      },
      "execution_count": 39,
      "outputs": [
        {
          "output_type": "execute_result",
          "data": {
            "text/plain": [
              "tan(x)*sec(x)"
            ],
            "text/latex": "$\\displaystyle \\tan{\\left(x \\right)} \\sec{\\left(x \\right)}$"
          },
          "metadata": {},
          "execution_count": 39
        }
      ]
    },
    {
      "cell_type": "markdown",
      "source": [
        "y = csc(x)"
      ],
      "metadata": {
        "id": "3h9skpoDOYsQ"
      }
    },
    {
      "cell_type": "code",
      "source": [
        "import sympy\n",
        "from sympy import symbols\n",
        "\n",
        "x,y = symbols('x y')\n",
        "\n",
        "eq = sympy.csc(x)\n",
        "derivative = sympy.diff(eq,x)\n",
        "eq"
      ],
      "metadata": {
        "id": "qafLolyEOcT9",
        "colab": {
          "base_uri": "https://localhost:8080/",
          "height": 38
        },
        "outputId": "fa8481f8-8807-49c0-dfab-aab291814dbe"
      },
      "execution_count": 40,
      "outputs": [
        {
          "output_type": "execute_result",
          "data": {
            "text/plain": [
              "csc(x)"
            ],
            "text/latex": "$\\displaystyle \\csc{\\left(x \\right)}$"
          },
          "metadata": {},
          "execution_count": 40
        }
      ]
    },
    {
      "cell_type": "code",
      "source": [
        "derivative"
      ],
      "metadata": {
        "id": "fCvydoPiOfuG",
        "colab": {
          "base_uri": "https://localhost:8080/",
          "height": 38
        },
        "outputId": "63405cce-7206-49a2-8af9-1f89c5234f2b"
      },
      "execution_count": 41,
      "outputs": [
        {
          "output_type": "execute_result",
          "data": {
            "text/plain": [
              "-cot(x)*csc(x)"
            ],
            "text/latex": "$\\displaystyle - \\cot{\\left(x \\right)} \\csc{\\left(x \\right)}$"
          },
          "metadata": {},
          "execution_count": 41
        }
      ]
    },
    {
      "cell_type": "markdown",
      "source": [
        "# Inverse Trig Functions"
      ],
      "metadata": {
        "id": "1nThtVKfOruz"
      }
    },
    {
      "cell_type": "code",
      "source": [
        "import sympy\n",
        "from sympy import symbols\n",
        "\n",
        "x,y = symbols('x y')\n",
        "\n",
        "# un-comment the function you want\n",
        "#eq = sympy.asin(x)\n",
        "#eq = sympy.acos(x)\n",
        "eq = sympy.atan(x)\n",
        "#eq = sympy.acot(x)\n",
        "#eq = sympy.asec(x)\n",
        "#eq = sympy.acsc(x)\n",
        "\n",
        "derivative = sympy.diff(eq,x)\n",
        "eq"
      ],
      "metadata": {
        "id": "oVg2_e0IOvAr",
        "colab": {
          "base_uri": "https://localhost:8080/",
          "height": 38
        },
        "outputId": "a2f437f2-e3de-42f0-e8c6-f52b61c9bc35"
      },
      "execution_count": 42,
      "outputs": [
        {
          "output_type": "execute_result",
          "data": {
            "text/plain": [
              "atan(x)"
            ],
            "text/latex": "$\\displaystyle \\operatorname{atan}{\\left(x \\right)}$"
          },
          "metadata": {},
          "execution_count": 42
        }
      ]
    },
    {
      "cell_type": "code",
      "source": [
        "derivative"
      ],
      "metadata": {
        "id": "tx4bh-WHO1U8",
        "colab": {
          "base_uri": "https://localhost:8080/",
          "height": 52
        },
        "outputId": "711d7859-6f42-4ae1-a1a1-7208c8be9fee"
      },
      "execution_count": 43,
      "outputs": [
        {
          "output_type": "execute_result",
          "data": {
            "text/plain": [
              "1/(x**2 + 1)"
            ],
            "text/latex": "$\\displaystyle \\frac{1}{x^{2} + 1}$"
          },
          "metadata": {},
          "execution_count": 43
        }
      ]
    },
    {
      "cell_type": "markdown",
      "source": [
        "# Hyperbolic Trig Functions"
      ],
      "metadata": {
        "id": "m1UmgZgUQO7m"
      }
    },
    {
      "cell_type": "code",
      "source": [
        "import sympy\n",
        "from sympy import symbols\n",
        "\n",
        "x,y = symbols('x y')\n",
        "\n",
        "# un-comment the function you want\n",
        "eq = sympy.sinh(x)\n",
        "#eq = sympy.cosh(x)\n",
        "#eq = sympy.tanh(x)\n",
        "#eq = sympy.coth(x)\n",
        "#eq = sympy.sech(x)\n",
        "#eq = sympy.csch(x)\n",
        "\n",
        "derivative = sympy.diff(eq,x)\n",
        "eq"
      ],
      "metadata": {
        "id": "kg1jyYtGQWjM",
        "colab": {
          "base_uri": "https://localhost:8080/",
          "height": 38
        },
        "outputId": "3962eba8-e386-4b69-ed49-9ae0933389f8"
      },
      "execution_count": 44,
      "outputs": [
        {
          "output_type": "execute_result",
          "data": {
            "text/plain": [
              "sinh(x)"
            ],
            "text/latex": "$\\displaystyle \\sinh{\\left(x \\right)}$"
          },
          "metadata": {},
          "execution_count": 44
        }
      ]
    },
    {
      "cell_type": "code",
      "source": [
        "derivative"
      ],
      "metadata": {
        "id": "swhFdBgsQpQH",
        "colab": {
          "base_uri": "https://localhost:8080/",
          "height": 38
        },
        "outputId": "15fe0985-2cff-4e0d-9e65-72cf706b9d7e"
      },
      "execution_count": 45,
      "outputs": [
        {
          "output_type": "execute_result",
          "data": {
            "text/plain": [
              "cosh(x)"
            ],
            "text/latex": "$\\displaystyle \\cosh{\\left(x \\right)}$"
          },
          "metadata": {},
          "execution_count": 45
        }
      ]
    },
    {
      "cell_type": "markdown",
      "source": [
        "# Inverse Hyperbolic Trig Functions"
      ],
      "metadata": {
        "id": "Nx9bqT3GQr4p"
      }
    },
    {
      "cell_type": "code",
      "source": [
        "import sympy\n",
        "from sympy import symbols\n",
        "\n",
        "x,y = symbols('x y')\n",
        "\n",
        "# un-comment the function you want\n",
        "eq = sympy.asinh(x)\n",
        "#eq = sympy.acosh(x)\n",
        "#eq = sympy.atanh(x)\n",
        "#eq = sympy.acoth(x)\n",
        "#eq = sympy.asech(x)\n",
        "#eq = sympy.acsch(x)\n",
        "\n",
        "derivative = sympy.diff(eq,x)\n",
        "eq"
      ],
      "metadata": {
        "id": "NSQsgsl4Qweo",
        "colab": {
          "base_uri": "https://localhost:8080/",
          "height": 38
        },
        "outputId": "4cad1315-c9d4-4233-d64e-fa3502ff527d"
      },
      "execution_count": 46,
      "outputs": [
        {
          "output_type": "execute_result",
          "data": {
            "text/plain": [
              "asinh(x)"
            ],
            "text/latex": "$\\displaystyle \\operatorname{asinh}{\\left(x \\right)}$"
          },
          "metadata": {},
          "execution_count": 46
        }
      ]
    },
    {
      "cell_type": "code",
      "source": [
        "derivative"
      ],
      "metadata": {
        "id": "BHZfjf4uQydt",
        "colab": {
          "base_uri": "https://localhost:8080/",
          "height": 55
        },
        "outputId": "60ba047a-7dc5-426f-d787-9a03084f90fc"
      },
      "execution_count": 47,
      "outputs": [
        {
          "output_type": "execute_result",
          "data": {
            "text/plain": [
              "1/sqrt(x**2 + 1)"
            ],
            "text/latex": "$\\displaystyle \\frac{1}{\\sqrt{x^{2} + 1}}$"
          },
          "metadata": {},
          "execution_count": 47
        }
      ]
    },
    {
      "cell_type": "markdown",
      "source": [
        "# Implicit Differentiation<br>\n",
        "When \"y\" is not always on the other side of the equal sign"
      ],
      "metadata": {
        "id": "zCwQ6C8WXEq9"
      }
    },
    {
      "cell_type": "markdown",
      "source": [
        "example -\n",
        "\n",
        "x^2 + y^2 = 25\n",
        "\n",
        "---\n",
        "\n",
        "\n",
        "\n",
        "derivative is\n",
        "\n",
        "---\n",
        "2x + 2y(dy/dx) = 0\n",
        "\n",
        "\n",
        "---\n",
        "\n",
        "solving that gives you -x/y = dx/dy\n",
        "\n",
        "---\n",
        "to get answers, just plug in x to solve for a y and plug both into the dx/dy equation\n",
        "\n"
      ],
      "metadata": {
        "id": "DkxrnJxDB_9j"
      }
    },
    {
      "cell_type": "code",
      "source": [
        "import sympy\n",
        "from sympy import symbols\n",
        "\n",
        "x,y = symbols('x y')\n",
        "\n",
        "# equation equal to zero\n",
        "#eq = x**2 + y**2 - 25\n",
        "eq = x**3 + y**3 - 6*x*y\n",
        "# idiff(equation, y-value, x-value) the y and x order is important to\n",
        "# make sure you are doing dy/dx and not it backwards.\n",
        "derivative = sympy.idiff(eq,y,x)\n",
        "eq"
      ],
      "metadata": {
        "id": "IXyMPUvKXUdH",
        "colab": {
          "base_uri": "https://localhost:8080/",
          "height": 38
        },
        "outputId": "dd55ea42-ab24-4679-c2ff-7eb0989cab5d"
      },
      "execution_count": 49,
      "outputs": [
        {
          "output_type": "execute_result",
          "data": {
            "text/plain": [
              "x**3 - 6*x*y + y**3"
            ],
            "text/latex": "$\\displaystyle x^{3} - 6 x y + y^{3}$"
          },
          "metadata": {},
          "execution_count": 49
        }
      ]
    },
    {
      "cell_type": "code",
      "source": [
        "derivative"
      ],
      "metadata": {
        "id": "m5swSakkXi4o",
        "colab": {
          "base_uri": "https://localhost:8080/",
          "height": 57
        },
        "outputId": "460c5d6b-78e0-4787-bdf9-e49bafe15c28"
      },
      "execution_count": 50,
      "outputs": [
        {
          "output_type": "execute_result",
          "data": {
            "text/plain": [
              "(x**2 - 2*y)/(2*x - y**2)"
            ],
            "text/latex": "$\\displaystyle \\frac{x^{2} - 2 y}{2 x - y^{2}}$"
          },
          "metadata": {},
          "execution_count": 50
        }
      ]
    },
    {
      "cell_type": "code",
      "source": [
        "from sympy.plotting import plot\n",
        "\n",
        "sympy.plot_implicit(eq)"
      ],
      "metadata": {
        "id": "ZQDJLEAfPCOo",
        "colab": {
          "base_uri": "https://localhost:8080/",
          "height": 520
        },
        "outputId": "9f2d2470-9de5-44cb-d508-f90f3f5fe8cb"
      },
      "execution_count": 52,
      "outputs": [
        {
          "output_type": "display_data",
          "data": {
            "text/plain": [
              "<Figure size 640x480 with 1 Axes>"
            ],
            "image/png": "[encoded data removed]"
          },
          "metadata": {}
        },
        {
          "output_type": "execute_result",
          "data": {
            "text/plain": [
              "<sympy.plotting.backends.matplotlibbackend.matplotlib.MatplotlibBackend at 0x78d2429b8190>"
            ]
          },
          "metadata": {},
          "execution_count": 52
        }
      ]
    },
    {
      "cell_type": "code",
      "source": [
        "# need an (x,y) point on the original line\n",
        "# this only works having run eq = x**2 + y**2 - 25 as the equation\n",
        "# above, not the descartes equation\n",
        "x_value = 3\n",
        "y_value = 4\n",
        "\n",
        "# two steps to plug in x and y\n",
        "answer_x = derivative.subs(x,x_value)\n",
        "answer_y = answer_x.subs(y,y_value)\n",
        "\n",
        "# slope at (x,y)\n",
        "print(answer_y)"
      ],
      "metadata": {
        "id": "FDCuWI0GDMTx",
        "colab": {
          "base_uri": "https://localhost:8080/"
        },
        "outputId": "e7ff65e9-b0ca-439e-cb15-dd75cb2df256"
      },
      "execution_count": 53,
      "outputs": [
        {
          "output_type": "stream",
          "name": "stdout",
          "text": [
            "-1/10\n"
          ]
        }
      ]
    },
    {
      "cell_type": "markdown",
      "source": [
        "Better for multiple y values"
      ],
      "metadata": {
        "id": "wxYEqrN6mDtY"
      }
    },
    {
      "cell_type": "code",
      "source": [
        "# start with an x value:\n",
        "x_value = 3\n",
        "\n",
        "# find the y value in the original equation\n",
        "x_part = eq.subs(x,x_value)\n",
        "# now set x_part = 0\n",
        "y_part = sympy.Eq(x_part,0)\n",
        "# solve for y with both x values\n",
        "y_value =  sympy.solve(y_part,y)\n",
        "print(\"y =\", y_value)\n",
        "# you may get multiple y values as an array"
      ],
      "metadata": {
        "id": "hz9xvb-Nl9Dh",
        "colab": {
          "base_uri": "https://localhost:8080/"
        },
        "outputId": "2baa5944-eaea-4de5-fa7d-868bccbe4fae"
      },
      "execution_count": 56,
      "outputs": [
        {
          "output_type": "stream",
          "name": "stdout",
          "text": [
            "y = [3, -3/2 + 3*sqrt(5)/2, -3*sqrt(5)/2 - 3/2]\n"
          ]
        }
      ]
    },
    {
      "cell_type": "code",
      "source": [
        "for y_loop in y_value:\n",
        "    # two steps to plug x and y into the derivative\n",
        "    answer_x = derivative.subs(x,x_value)\n",
        "    answer_y = answer_x.subs(y,y_loop)\n",
        "    print(\"slope at (\", x_value, \",\", y_loop, \") is \", answer_y)\n"
      ],
      "metadata": {
        "id": "gOVvmhyEmIlE",
        "colab": {
          "base_uri": "https://localhost:8080/"
        },
        "outputId": "a6ec915b-3545-46c2-d3ca-6ff48a31997e"
      },
      "execution_count": 55,
      "outputs": [
        {
          "output_type": "stream",
          "name": "stdout",
          "text": [
            "slope at ( 3 , 3 ) is  -1\n",
            "slope at ( 3 , -3/2 + 3*sqrt(5)/2 ) is  (12 - 3*sqrt(5))/(6 - (-3/2 + 3*sqrt(5)/2)**2)\n",
            "slope at ( 3 , -3*sqrt(5)/2 - 3/2 ) is  (3*sqrt(5) + 12)/(6 - (-3*sqrt(5)/2 - 3/2)**2)\n"
          ]
        }
      ]
    },
    {
      "cell_type": "markdown",
      "source": [
        "# Your own equations<br>\n",
        "Use this code for any derivatives - explicit or implicit"
      ],
      "metadata": {
        "id": "lveKM1NCBG_B"
      }
    },
    {
      "cell_type": "code",
      "source": [
        "import sympy\n",
        "from sympy import symbols\n",
        "import math\n",
        "\n",
        "x,y = symbols('x y')\n",
        "\n",
        "# put your y = equation here:\n",
        "eq = x\n",
        "derivative = sympy.diff(eq,x)\n",
        "\n",
        "# put your 0 = equation here:\n",
        "eq = x + y\n",
        "derivative = sympy.idiff(eq,y,x)\n",
        "\n",
        "# will only output the most recent\n",
        "eq"
      ],
      "metadata": {
        "id": "707a10EiBjE8",
        "colab": {
          "base_uri": "https://localhost:8080/",
          "height": 38
        },
        "outputId": "e20b6d3f-05a8-42f0-a7d1-44e60e6e35e7"
      },
      "execution_count": 58,
      "outputs": [
        {
          "output_type": "execute_result",
          "data": {
            "text/plain": [
              "x + y"
            ],
            "text/latex": "$\\displaystyle x + y$"
          },
          "metadata": {},
          "execution_count": 58
        }
      ]
    },
    {
      "cell_type": "code",
      "source": [
        "derivative"
      ],
      "metadata": {
        "id": "2W5iY3crCbGm",
        "colab": {
          "base_uri": "https://localhost:8080/",
          "height": 37
        },
        "outputId": "2cdcdef5-c727-45e0-9aa0-69463233e027"
      },
      "execution_count": 59,
      "outputs": [
        {
          "output_type": "execute_result",
          "data": {
            "text/plain": [
              "-1"
            ],
            "text/latex": "$\\displaystyle -1$"
          },
          "metadata": {},
          "execution_count": 59
        }
      ]
    },
    {
      "cell_type": "code",
      "source": [
        "x_value = 0\n",
        "answer = derivative.subs(x,x_value)\n",
        "# or use the two-step process for implicit derivatives\n",
        "print(answer)"
      ],
      "metadata": {
        "id": "GDaRf_lEDJls",
        "colab": {
          "base_uri": "https://localhost:8080/"
        },
        "outputId": "b4635148-e30d-4591-c395-40bf3587e98b"
      },
      "execution_count": 60,
      "outputs": [
        {
          "output_type": "stream",
          "name": "stdout",
          "text": [
            "-1\n"
          ]
        }
      ]
    },
    {
      "cell_type": "markdown",
      "source": [
        "# Second Derivatives"
      ],
      "metadata": {
        "id": "aO8Wg0DDX5a1"
      }
    },
    {
      "cell_type": "code",
      "source": [
        "# original equation\n",
        "\n",
        "import sympy\n",
        "from sympy import symbols\n",
        "\n",
        "x,y = symbols('x y')\n",
        "\n",
        "# y = equation\n",
        "eq = x**3 + 2*x**2 + 3*x + 4\n",
        "derivative = sympy.diff(eq,x)\n",
        "eq"
      ],
      "metadata": {
        "id": "97Y9cBK9X8xF",
        "colab": {
          "base_uri": "https://localhost:8080/",
          "height": 38
        },
        "outputId": "32a8a69d-5d25-430f-92c0-d0d880ae4d30"
      },
      "execution_count": 61,
      "outputs": [
        {
          "output_type": "execute_result",
          "data": {
            "text/plain": [
              "x**3 + 2*x**2 + 3*x + 4"
            ],
            "text/latex": "$\\displaystyle x^{3} + 2 x^{2} + 3 x + 4$"
          },
          "metadata": {},
          "execution_count": 61
        }
      ]
    },
    {
      "cell_type": "code",
      "source": [
        "# first derivative\n",
        "derivative"
      ],
      "metadata": {
        "id": "zTGjnR_nYFc_",
        "colab": {
          "base_uri": "https://localhost:8080/",
          "height": 38
        },
        "outputId": "c500cbfd-b0a1-4327-8071-c1154d48066f"
      },
      "execution_count": 62,
      "outputs": [
        {
          "output_type": "execute_result",
          "data": {
            "text/plain": [
              "3*x**2 + 4*x + 3"
            ],
            "text/latex": "$\\displaystyle 3 x^{2} + 4 x + 3$"
          },
          "metadata": {},
          "execution_count": 62
        }
      ]
    },
    {
      "cell_type": "code",
      "source": [
        "# second derivative\n",
        "second_derivative = sympy.diff(derivative,x)\n",
        "second_derivative\n"
      ],
      "metadata": {
        "id": "qf-_G5F5YGxU",
        "colab": {
          "base_uri": "https://localhost:8080/",
          "height": 38
        },
        "outputId": "dfe91f66-d05f-48fa-ea07-86d64fd9f44c"
      },
      "execution_count": 63,
      "outputs": [
        {
          "output_type": "execute_result",
          "data": {
            "text/plain": [
              "6*x + 4"
            ],
            "text/latex": "$\\displaystyle 6 x + 4$"
          },
          "metadata": {},
          "execution_count": 63
        }
      ]
    },
    {
      "cell_type": "markdown",
      "source": [
        "# Find Critical Values<br>\n",
        "Set first derivative equal to zero"
      ],
      "metadata": {
        "id": "Zi1QNMFpJuaY"
      }
    },
    {
      "cell_type": "code",
      "source": [
        "# first derivative again\n",
        "# set equal to zero\n",
        "first = sympy.Eq(derivative,0)\n",
        "first\n"
      ],
      "metadata": {
        "id": "hLAKuNdSYnrj",
        "colab": {
          "base_uri": "https://localhost:8080/",
          "height": 38
        },
        "outputId": "948efe82-e7e5-422c-c22d-2db4f9394ea8"
      },
      "execution_count": 64,
      "outputs": [
        {
          "output_type": "execute_result",
          "data": {
            "text/plain": [
              "Eq(3*x**2 + 4*x + 3, 0)"
            ],
            "text/latex": "$\\displaystyle 3 x^{2} + 4 x + 3 = 0$"
          },
          "metadata": {},
          "execution_count": 64
        }
      ]
    },
    {
      "cell_type": "code",
      "source": [
        "# set equal to zero and solve\n",
        "zeros = sympy.solve(first)\n",
        "zeros"
      ],
      "metadata": {
        "id": "cURKWYvcZNAb",
        "colab": {
          "base_uri": "https://localhost:8080/"
        },
        "outputId": "dc549ed0-ad44-4f97-d117-87b7b1b19873"
      },
      "execution_count": 65,
      "outputs": [
        {
          "output_type": "execute_result",
          "data": {
            "text/plain": [
              "[-2/3 - sqrt(5)*I/3, -2/3 + sqrt(5)*I/3]"
            ]
          },
          "metadata": {},
          "execution_count": 65
        }
      ]
    },
    {
      "cell_type": "markdown",
      "source": [
        "Display answers in math print"
      ],
      "metadata": {
        "id": "LrURLnT0KGLe"
      }
    },
    {
      "cell_type": "code",
      "source": [
        "# first solution\n",
        "zeros[0]"
      ],
      "metadata": {
        "id": "wdi0mBQutS26",
        "colab": {
          "base_uri": "https://localhost:8080/",
          "height": 55
        },
        "outputId": "d828ee5a-8d9f-40b1-8b75-f8b3971aca22"
      },
      "execution_count": 66,
      "outputs": [
        {
          "output_type": "execute_result",
          "data": {
            "text/plain": [
              "-2/3 - sqrt(5)*I/3"
            ],
            "text/latex": "$\\displaystyle - \\frac{2}{3} - \\frac{\\sqrt{5} i}{3}$"
          },
          "metadata": {},
          "execution_count": 66
        }
      ]
    },
    {
      "cell_type": "code",
      "source": [
        "# second solution\n",
        "zeros[1]"
      ],
      "metadata": {
        "id": "tNJzvtOjtgBz",
        "colab": {
          "base_uri": "https://localhost:8080/",
          "height": 55
        },
        "outputId": "b89a31b4-405a-4145-b335-cc96d81b8dca"
      },
      "execution_count": 67,
      "outputs": [
        {
          "output_type": "execute_result",
          "data": {
            "text/plain": [
              "-2/3 + sqrt(5)*I/3"
            ],
            "text/latex": "$\\displaystyle - \\frac{2}{3} + \\frac{\\sqrt{5} i}{3}$"
          },
          "metadata": {},
          "execution_count": 67
        }
      ]
    },
    {
      "cell_type": "markdown",
      "source": [
        "# Maximum Revenue"
      ],
      "metadata": {
        "id": "TpXTysnjJ0S-"
      }
    },
    {
      "cell_type": "code",
      "source": [
        "# two data points\n",
        "x_price_1 = 6\n",
        "y_demand_1 = 480\n",
        "x_price_2 = 7\n",
        "y_demand_2 = 476\n",
        "\n",
        "# slope and linear equation\n",
        "slope = (y_demand_2 - y_demand_1)/(x_price_2 - x_price_1)\n",
        "y_intercept = y_demand_1 - slope*x_price_1\n",
        "print(\"y = \", slope,\"x + \", y_intercept)\n"
      ],
      "metadata": {
        "id": "bJA4TC73J8cO",
        "colab": {
          "base_uri": "https://localhost:8080/"
        },
        "outputId": "f0f3a622-df7a-4f49-f923-31a06825d5d7"
      },
      "execution_count": 68,
      "outputs": [
        {
          "output_type": "stream",
          "name": "stdout",
          "text": [
            "y =  -4.0 x +  504.0\n"
          ]
        }
      ]
    },
    {
      "cell_type": "code",
      "source": [
        "import sympy\n",
        "from sympy import symbols\n",
        "\n",
        "x,y = symbols('x y')\n",
        "\n",
        "# estimated demand equation\n",
        "demand = slope*x + y_intercept\n",
        "\n",
        "# revenue equation\n",
        "revenue = x*demand\n",
        "revenue"
      ],
      "metadata": {
        "id": "QxlJ_rW0LAc-",
        "colab": {
          "base_uri": "https://localhost:8080/",
          "height": 38
        },
        "outputId": "6d22d423-aac5-481c-bdbc-e2ec3e169a68"
      },
      "execution_count": 69,
      "outputs": [
        {
          "output_type": "execute_result",
          "data": {
            "text/plain": [
              "x*(504.0 - 4.0*x)"
            ],
            "text/latex": "$\\displaystyle x \\left(504.0 - 4.0 x\\right)$"
          },
          "metadata": {},
          "execution_count": 69
        }
      ]
    },
    {
      "cell_type": "code",
      "source": [
        "# maximum revenue\n",
        "max_revenue = sympy.diff(revenue,x)\n",
        "max_x = sympy.solve(max_revenue)\n",
        "max_y = revenue.subs(x,max_x[0])\n",
        "print(\"maximum revenue is \", max_y)\n",
        "print(\"when price = \", max_x[0])"
      ],
      "metadata": {
        "id": "Uys0c654LkmV",
        "colab": {
          "base_uri": "https://localhost:8080/"
        },
        "outputId": "b8965d84-5b18-4077-be72-bc9bd74971c4"
      },
      "execution_count": 70,
      "outputs": [
        {
          "output_type": "stream",
          "name": "stdout",
          "text": [
            "maximum revenue is  15876.0000000000\n",
            "when price =  63.0000000000000\n"
          ]
        }
      ]
    },
    {
      "cell_type": "code",
      "source": [
        "#check\n",
        "print(\"rev 1 = \", x_price_1*y_demand_1)\n",
        "print(\"rev 2 = \", x_price_2*y_demand_2)\n",
        "print(\"rev 3 = \", max_x[0]*demand.subs(x,max_x[0]))\n",
        "print(demand.subs(x,max_x[0]))\n",
        "zero = sympy.solve(demand)\n",
        "zero"
      ],
      "metadata": {
        "id": "BWxJ9j6aNOb6",
        "colab": {
          "base_uri": "https://localhost:8080/"
        },
        "outputId": "e8e263f4-d518-454c-9501-ee5aa8440cd1"
      },
      "execution_count": 71,
      "outputs": [
        {
          "output_type": "stream",
          "name": "stdout",
          "text": [
            "rev 1 =  2880\n",
            "rev 2 =  3332\n",
            "rev 3 =  15876.0000000000\n",
            "252.000000000000\n"
          ]
        },
        {
          "output_type": "execute_result",
          "data": {
            "text/plain": [
              "[126.000000000000]"
            ]
          },
          "metadata": {},
          "execution_count": 71
        }
      ]
    },
    {
      "cell_type": "code",
      "source": [
        "sympy.plot(revenue, xlim=[0,130], ylim=[0,16000])"
      ],
      "metadata": {
        "id": "Demi09bRQNQR",
        "colab": {
          "base_uri": "https://localhost:8080/",
          "height": 521
        },
        "outputId": "d352e729-845b-49bc-f54d-2facb8e19ee6"
      },
      "execution_count": 72,
      "outputs": [
        {
          "output_type": "display_data",
          "data": {
            "text/plain": [
              "<Figure size 640x480 with 1 Axes>"
            ],
            "image/png": "[encoded data removed]"
          },
          "metadata": {}
        },
        {
          "output_type": "execute_result",
          "data": {
            "text/plain": [
              "<sympy.plotting.backends.matplotlibbackend.matplotlib.MatplotlibBackend at 0x78d240340050>"
            ]
          },
          "metadata": {},
          "execution_count": 72
        }
      ]
    },
    {
      "cell_type": "code",
      "source": [
        "sympy.plot(demand, xlim=[0,130], ylim=[0,600])"
      ],
      "metadata": {
        "id": "yFcJ1kx1R0rT",
        "colab": {
          "base_uri": "https://localhost:8080/",
          "height": 521
        },
        "outputId": "dd57ead9-9c44-4796-c8e9-11a15c3333e3"
      },
      "execution_count": 73,
      "outputs": [
        {
          "output_type": "display_data",
          "data": {
            "text/plain": [
              "<Figure size 640x480 with 1 Axes>"
            ],
            "image/png": "[encoded data removed]"
          },
          "metadata": {}
        },
        {
          "output_type": "execute_result",
          "data": {
            "text/plain": [
              "<sympy.plotting.backends.matplotlibbackend.matplotlib.MatplotlibBackend at 0x78d23a01d4d0>"
            ]
          },
          "metadata": {},
          "execution_count": 73
        }
      ]
    }
  ]
}