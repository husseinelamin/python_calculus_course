{
  "nbformat": 4,
  "nbformat_minor": 0,
  "metadata": {
    "colab": {
      "provenance": [],
      "toc_visible": true,
      "authorship_tag": "ABX9TyPII/G9+jw/jGbKoOowelwG",
      "include_colab_link": true
    },
    "kernelspec": {
      "name": "python3",
      "display_name": "Python 3"
    },
    "language_info": {
      "name": "python"
    }
  },
  "cells": [
    {
      "cell_type": "markdown",
      "metadata": {
        "id": "view-in-github",
        "colab_type": "text"
      },
      "source": [
        "<a href=\"https://colab.research.google.com/github/husseinelamin/python_calculus_course/blob/main/Calculator.ipynb\" target=\"_parent\"><img src=\"https://colab.research.google.com/assets/colab-badge.svg\" alt=\"Open In Colab\"/></a>"
      ]
    },
    {
      "cell_type": "markdown",
      "source": [
        "# Limits\n"
      ],
      "metadata": {
        "id": "A0McY7GgXjgS"
      }
    },
    {
      "cell_type": "code",
      "execution_count": 2,
      "metadata": {
        "colab": {
          "base_uri": "https://localhost:8080/"
        },
        "id": "_38Pce5YJ6Dx",
        "outputId": "7bbfbc56-97db-4237-f645-fbbf9407ff92"
      },
      "outputs": [
        {
          "output_type": "stream",
          "name": "stdout",
          "text": [
            "x=             0\n",
            "0  -2*sqrt(2)\n",
            "1   2*sqrt(2)\n"
          ]
        }
      ],
      "source": [
        "import sympy\n",
        "from sympy import symbols\n",
        "from sympy.solvers import solve\n",
        "import pandas as pd\n",
        "\n",
        "x = symbols('x')\n",
        "\n",
        "# write out equation of interest\n",
        "eq = (x**2 - 8) / (x**2 - 4)\n",
        "\n",
        "# solve the equation (ie set to 0)\n",
        "df = pd.DataFrame(sympy.solve(eq, x))\n",
        "\n",
        "print(\"x=\", df)"
      ]
    },
    {
      "cell_type": "code",
      "source": [
        "# add critical values from prior step\n",
        "x_1 = df[0][0]\n",
        "x_2 = df[0][1]\n",
        "print(x_1, x_2)\n",
        "\n",
        "\n",
        "# first critical point\n",
        "right = sympy.limit(eq, x, x_1, dir='+')\n",
        "left = sympy.limit(eq, x, x_1, dir='-')\n",
        "print('at x=', x_1)\n",
        "print('right side limit =', right)\n",
        "print('left side limit =', left)\n",
        "\n",
        "# second critical point\n",
        "right = sympy.limit(eq, x, x_2, dir='+')\n",
        "left = sympy.limit(eq, x, x_2, dir='-')\n",
        "print('at x=', x_2)\n",
        "print('right side limit =', right)\n",
        "print('left side limit =', left)\n",
        "\n",
        "# approaching + / - infinity\n",
        "right = sympy.limit(eq, x, sympy.oo)\n",
        "left = sympy.limit(eq, x, -sympy.oo)\n",
        "print('as x approaches infinity:', right)\n",
        "print('as x approaches negative infinity:', left)"
      ],
      "metadata": {
        "colab": {
          "base_uri": "https://localhost:8080/"
        },
        "id": "Vp2IRqQxLe7k",
        "outputId": "8b592426-4268-4dc7-a41a-2fbf61a09df1"
      },
      "execution_count": 3,
      "outputs": [
        {
          "output_type": "stream",
          "name": "stdout",
          "text": [
            "-2*sqrt(2) 2*sqrt(2)\n",
            "at x= -2*sqrt(2)\n",
            "right side limit = 0\n",
            "left side limit = 0\n",
            "at x= 2*sqrt(2)\n",
            "right side limit = 0\n",
            "left side limit = 0\n",
            "as x approaches infinity: 1\n",
            "as x approaches negative infinity: 1\n"
          ]
        }
      ]
    },
    {
      "cell_type": "markdown",
      "source": [
        "# Graph with Sympy"
      ],
      "metadata": {
        "id": "IuCDH6tyXrQy"
      }
    },
    {
      "cell_type": "markdown",
      "source": [
        "Graphing with sympy is rather easy. Mostly just one line of code after importing the plot from sympy.plotting"
      ],
      "metadata": {
        "id": "NWcXa0ruLnhm"
      }
    },
    {
      "cell_type": "code",
      "source": [
        "from sympy.plotting import plot\n",
        "\n",
        "sympy.plot(eq)"
      ],
      "metadata": {
        "colab": {
          "base_uri": "https://localhost:8080/",
          "height": 520
        },
        "id": "D_zpSIuKXuqy",
        "outputId": "40e987c4-5da0-4dcc-8113-ab2482061f40"
      },
      "execution_count": 4,
      "outputs": [
        {
          "output_type": "display_data",
          "data": {
            "text/plain": [
              "<Figure size 640x480 with 1 Axes>"
            ],
            "image/png": "[encoded data removed]"
          },
          "metadata": {}
        },
        {
          "output_type": "execute_result",
          "data": {
            "text/plain": [
              "<sympy.plotting.backends.matplotlibbackend.matplotlib.MatplotlibBackend at 0x7a590a1bbd90>"
            ]
          },
          "metadata": {},
          "execution_count": 4
        }
      ]
    },
    {
      "cell_type": "markdown",
      "source": [
        "# Derivatives"
      ],
      "metadata": {
        "id": "WM5r_o4_YVHI"
      }
    },
    {
      "cell_type": "markdown",
      "source": [
        "## Display the y = equation"
      ],
      "metadata": {
        "id": "rvnmz6ZJYXRm"
      }
    },
    {
      "cell_type": "code",
      "source": [
        "import sympy\n",
        "from sympy import symbols\n",
        "\n",
        "x, y = symbols('x y')\n",
        "\n",
        "# fill in my equation to solve below and uncomment\n",
        "\n",
        "# eq =\n",
        "\n",
        "print('y = ')\n",
        "eq"
      ],
      "metadata": {
        "id": "J5nkoGG7YfRG"
      },
      "execution_count": null,
      "outputs": []
    },
    {
      "cell_type": "markdown",
      "source": [],
      "metadata": {
        "id": "LALN1TMaYmz-"
      }
    },
    {
      "cell_type": "markdown",
      "source": [
        "## Display the Derivative"
      ],
      "metadata": {
        "id": "8LwwgXSqY6lb"
      }
    },
    {
      "cell_type": "code",
      "source": [
        "derivative = sympy.diff(eq,x)\n",
        "print('derivative =')\n",
        "derivative"
      ],
      "metadata": {
        "colab": {
          "base_uri": "https://localhost:8080/",
          "height": 79
        },
        "id": "ijY3lwS5ZC4f",
        "outputId": "5c56c543-2851-4133-95a5-738c101d18b4"
      },
      "execution_count": 5,
      "outputs": [
        {
          "output_type": "stream",
          "name": "stdout",
          "text": [
            "derivative =\n"
          ]
        },
        {
          "output_type": "execute_result",
          "data": {
            "text/plain": [
              "-2*x*(x**2 - 8)/(x**2 - 4)**2 + 2*x/(x**2 - 4)"
            ],
            "text/latex": "$\\displaystyle - \\frac{2 x \\left(x^{2} - 8\\right)}{\\left(x^{2} - 4\\right)^{2}} + \\frac{2 x}{x^{2} - 4}$"
          },
          "metadata": {},
          "execution_count": 5
        }
      ]
    },
    {
      "cell_type": "markdown",
      "source": [
        "## Find the slope at a point"
      ],
      "metadata": {
        "id": "os6j0fuhZg2M"
      }
    },
    {
      "cell_type": "code",
      "source": [
        "# fill in the x value that you want to find the derivative for  and uncomment\n",
        "# x_value =\n",
        "answer = derivative.subs(x,x_value)\n",
        "print('slope at x=', x_value, ' is ', answer)"
      ],
      "metadata": {
        "id": "-Jj-hGJUZRfQ"
      },
      "execution_count": null,
      "outputs": []
    },
    {
      "cell_type": "markdown",
      "source": [
        "## Set derivative equal to zero"
      ],
      "metadata": {
        "id": "HMR_f-roZ-VC"
      }
    },
    {
      "cell_type": "code",
      "source": [
        "# this also makes the derivative answer into an equation equal to 0\n",
        "first = sympy.Eq(derivative, 0)\n",
        "first"
      ],
      "metadata": {
        "colab": {
          "base_uri": "https://localhost:8080/",
          "height": 62
        },
        "id": "T9z9EQ24aBOV",
        "outputId": "a96f90d0-9bfb-4e4b-ed7c-706f8e658b03"
      },
      "execution_count": 7,
      "outputs": [
        {
          "output_type": "execute_result",
          "data": {
            "text/plain": [
              "Eq(-2*x*(x**2 - 8)/(x**2 - 4)**2 + 2*x/(x**2 - 4), 0)"
            ],
            "text/latex": "$\\displaystyle - \\frac{2 x \\left(x^{2} - 8\\right)}{\\left(x^{2} - 4\\right)^{2}} + \\frac{2 x}{x^{2} - 4} = 0$"
          },
          "metadata": {},
          "execution_count": 7
        }
      ]
    },
    {
      "cell_type": "markdown",
      "source": [
        "## Solve to find critical values"
      ],
      "metadata": {
        "id": "7ifrmrR8eK4R"
      }
    },
    {
      "cell_type": "code",
      "source": [
        "zeros = sympy.solve(first)\n",
        "zeros"
      ],
      "metadata": {
        "colab": {
          "base_uri": "https://localhost:8080/"
        },
        "id": "xLf7BVKMeRvC",
        "outputId": "43b5c730-d5c7-4b50-e8d8-9225aca37d94"
      },
      "execution_count": 8,
      "outputs": [
        {
          "output_type": "execute_result",
          "data": {
            "text/plain": [
              "[0]"
            ]
          },
          "metadata": {},
          "execution_count": 8
        }
      ]
    },
    {
      "cell_type": "markdown",
      "source": [
        "## Graph the original function and its derivative"
      ],
      "metadata": {
        "id": "rHbrZLVBeelD"
      }
    },
    {
      "cell_type": "code",
      "source": [
        "from sympy.plotting import plot\n",
        "\n",
        "# plot the equation and its derivative\n",
        "sympy.plot(eq, derivative)"
      ],
      "metadata": {
        "colab": {
          "base_uri": "https://localhost:8080/",
          "height": 520
        },
        "id": "rNvdbIKbeh5g",
        "outputId": "555d884e-4c1f-4998-c51d-6a1f695505b3"
      },
      "execution_count": 9,
      "outputs": [
        {
          "output_type": "display_data",
          "data": {
            "text/plain": [
              "<Figure size 640x480 with 1 Axes>"
            ],
            "image/png": "[encoded data removed]"
          },
          "metadata": {}
        },
        {
          "output_type": "execute_result",
          "data": {
            "text/plain": [
              "<sympy.plotting.backends.matplotlibbackend.matplotlib.MatplotlibBackend at 0x7a58f86d5a90>"
            ]
          },
          "metadata": {},
          "execution_count": 9
        }
      ]
    },
    {
      "cell_type": "markdown",
      "source": [
        "## Display the second derivative"
      ],
      "metadata": {
        "id": "XsDDtfYje0_-"
      }
    },
    {
      "cell_type": "code",
      "source": [
        "second_derivative = sympy.diff(derivative, x)\n",
        "second_derivative"
      ],
      "metadata": {
        "colab": {
          "base_uri": "https://localhost:8080/",
          "height": 62
        },
        "id": "Svl_Z09Ee5EH",
        "outputId": "a856cd6a-8c11-422b-cda3-4b93fd2b132d"
      },
      "execution_count": 11,
      "outputs": [
        {
          "output_type": "execute_result",
          "data": {
            "text/plain": [
              "8*x**2*(x**2 - 8)/(x**2 - 4)**3 - 8*x**2/(x**2 - 4)**2 - 2*(x**2 - 8)/(x**2 - 4)**2 + 2/(x**2 - 4)"
            ],
            "text/latex": "$\\displaystyle \\frac{8 x^{2} \\left(x^{2} - 8\\right)}{\\left(x^{2} - 4\\right)^{3}} - \\frac{8 x^{2}}{\\left(x^{2} - 4\\right)^{2}} - \\frac{2 \\left(x^{2} - 8\\right)}{\\left(x^{2} - 4\\right)^{2}} + \\frac{2}{x^{2} - 4}$"
          },
          "metadata": {},
          "execution_count": 11
        }
      ]
    },
    {
      "cell_type": "markdown",
      "source": [
        "Second derivative at a point"
      ],
      "metadata": {
        "id": "tZo5_Z7-fFgS"
      }
    },
    {
      "cell_type": "code",
      "source": [
        "# note the desired x value you want to find the second derivative\n",
        "# value for and un comment\n",
        "# x_value =\n",
        "\n",
        "answer = second_derivative.subs(x, x_value)\n",
        "print('slope at x=', x_value, ' is ', answer)\n"
      ],
      "metadata": {
        "colab": {
          "base_uri": "https://localhost:8080/"
        },
        "id": "YAPkDAblfH4W",
        "outputId": "310d06db-94ec-44d7-cc18-ad096ff096ab"
      },
      "execution_count": 13,
      "outputs": [
        {
          "output_type": "stream",
          "name": "stdout",
          "text": [
            "slope at x= 4  is  -13/54\n"
          ]
        }
      ]
    },
    {
      "cell_type": "markdown",
      "source": [
        "second derivative equal to 0 and solve"
      ],
      "metadata": {
        "id": "fw_Ao6WofjSS"
      }
    },
    {
      "cell_type": "code",
      "source": [
        "second = sympy.Eq(derivative, 0)\n",
        "zeros = sympy.solve(second)\n",
        "zeros"
      ],
      "metadata": {
        "colab": {
          "base_uri": "https://localhost:8080/"
        },
        "id": "D419snk0fr8_",
        "outputId": "f6532098-bd2e-44dc-9506-4988d42d314c"
      },
      "execution_count": 14,
      "outputs": [
        {
          "output_type": "execute_result",
          "data": {
            "text/plain": [
              "[0]"
            ]
          },
          "metadata": {},
          "execution_count": 14
        }
      ]
    },
    {
      "cell_type": "markdown",
      "source": [
        "Plot all 3 points"
      ],
      "metadata": {
        "id": "wn5INAJdf2ng"
      }
    },
    {
      "cell_type": "code",
      "source": [
        "from sympy.plotting import plot\n",
        "\n",
        "#plot the equation and the derivatives\n",
        "\n",
        "sympy.plot(eq, derivative, second_derivative)"
      ],
      "metadata": {
        "colab": {
          "base_uri": "https://localhost:8080/",
          "height": 520
        },
        "id": "veuPU1Qlf4tn",
        "outputId": "a18c40b2-2b8f-4e15-9dd2-f66ef86219f1"
      },
      "execution_count": 15,
      "outputs": [
        {
          "output_type": "display_data",
          "data": {
            "text/plain": [
              "<Figure size 640x480 with 1 Axes>"
            ],
            "image/png": "[encoded data removed]"
          },
          "metadata": {}
        },
        {
          "output_type": "execute_result",
          "data": {
            "text/plain": [
              "<sympy.plotting.backends.matplotlibbackend.matplotlib.MatplotlibBackend at 0x7a58f83fb790>"
            ]
          },
          "metadata": {},
          "execution_count": 15
        }
      ]
    },
    {
      "cell_type": "markdown",
      "source": [
        "# Implicit Differentiation"
      ],
      "metadata": {
        "id": "m5x1sIm8gDZe"
      }
    },
    {
      "cell_type": "markdown",
      "source": [
        "when 'y' is not always on the other side of the equation, use implicit differentiation"
      ],
      "metadata": {
        "id": "PD6JdMqegGbi"
      }
    },
    {
      "cell_type": "code",
      "source": [
        "import sympy\n",
        "from sympy import symbols\n",
        "\n",
        "x, y = symbols('x y')\n",
        "\n",
        "# equation equal to zero\n",
        "# be sure to write in your equation below and uncomment\n",
        "# eq =\n",
        "# remember the notation here, we want dy/dx so the arguments are\n",
        "# sympy.idiff(equation, y-variable, x-variable)\n",
        "derivative = sympy.idiff(eq, y, x)\n",
        "eq"
      ],
      "metadata": {
        "colab": {
          "base_uri": "https://localhost:8080/",
          "height": 55
        },
        "id": "MhX7hN0KgKV4",
        "outputId": "44a1a85f-20c3-443c-cbca-f71aed9ab7b0"
      },
      "execution_count": 16,
      "outputs": [
        {
          "output_type": "execute_result",
          "data": {
            "text/plain": [
              "(x**2 - 8)/(x**2 - 4)"
            ],
            "text/latex": "$\\displaystyle \\frac{x^{2} - 8}{x^{2} - 4}$"
          },
          "metadata": {},
          "execution_count": 16
        }
      ]
    },
    {
      "cell_type": "markdown",
      "source": [
        "## Plotting implicit plot (different from normal plot function)"
      ],
      "metadata": {
        "id": "Whi2Wfs_hQoR"
      }
    },
    {
      "cell_type": "code",
      "source": [
        "# notice the implicit plot\n",
        "sympy.plot_implicit(eq)"
      ],
      "metadata": {
        "colab": {
          "base_uri": "https://localhost:8080/",
          "height": 519
        },
        "id": "ghw_kGbPgZTI",
        "outputId": "fb0fc806-35e5-4073-a60b-39833c1cc114"
      },
      "execution_count": 17,
      "outputs": [
        {
          "output_type": "display_data",
          "data": {
            "text/plain": [
              "<Figure size 640x480 with 1 Axes>"
            ],
            "image/png": "[encoded data removed]"
          },
          "metadata": {}
        },
        {
          "output_type": "execute_result",
          "data": {
            "text/plain": [
              "<sympy.plotting.backends.matplotlibbackend.matplotlib.MatplotlibBackend at 0x7a58f8c58050>"
            ]
          },
          "metadata": {},
          "execution_count": 17
        }
      ]
    },
    {
      "cell_type": "code",
      "source": [
        "derivative"
      ],
      "metadata": {
        "colab": {
          "base_uri": "https://localhost:8080/",
          "height": 53
        },
        "id": "i0AlFS-pg9ao",
        "outputId": "09a6ba65-ee51-49d6-f3da-d7ab2650e41f"
      },
      "execution_count": 18,
      "outputs": [
        {
          "output_type": "execute_result",
          "data": {
            "text/plain": [
              "zoo*x/(x**4 - 8*x**2 + 16)"
            ],
            "text/latex": "$\\displaystyle \\frac{\\tilde{\\infty} x}{x^{4} - 8 x^{2} + 16}$"
          },
          "metadata": {},
          "execution_count": 18
        }
      ]
    },
    {
      "cell_type": "markdown",
      "source": [
        "## Find the slope with an (x, y) point"
      ],
      "metadata": {
        "id": "wGuQXFN_g7e0"
      }
    },
    {
      "cell_type": "code",
      "source": [
        "# start with the x value, write it below and uncomment\n",
        "# x_value =\n",
        "\n",
        "# use the x value to find the y value\n",
        "x_part = eq.subs(x, x_value)\n",
        "y_part = sympy.Eq(x_part, 0)\n",
        "y_value = sympy.solve(y_part, y)\n",
        "print('y values: ', y_value)\n",
        "\n",
        "# if the equation allows, you may get multiple y values\n",
        "for y_loop in y_value:\n",
        "    answer_x = derivative.subs(x, x_value)\n",
        "    answer_y = answer_x.subs(y, y_loop)\n",
        "    print('slope at (', x_value, ',', ') is ', answer_y)"
      ],
      "metadata": {
        "colab": {
          "base_uri": "https://localhost:8080/"
        },
        "id": "hop04ZHEhKT2",
        "outputId": "f0bd11df-6f5b-48fa-b61b-f90da12923bf"
      },
      "execution_count": 19,
      "outputs": [
        {
          "output_type": "stream",
          "name": "stdout",
          "text": [
            "y values:  []\n"
          ]
        }
      ]
    },
    {
      "cell_type": "markdown",
      "source": [
        "## plot the equation along with one point"
      ],
      "metadata": {
        "id": "bFWijhLEkUSN"
      }
    },
    {
      "cell_type": "code",
      "source": [
        "x1 = x_value\n",
        "y1 = y_value[0]\n",
        "\n",
        "# change the limit ranges as needed\n",
        "\n",
        "\n",
        "plot_implicit(eq, xlim=(-4, 4), ylim=(-4, 4), markers=[{'args': (x1, y1, 'ro')}])\n"
      ],
      "metadata": {
        "colab": {
          "base_uri": "https://localhost:8080/",
          "height": 241
        },
        "id": "VsanqFsIkW8Q",
        "outputId": "261b641e-3503-482d-ba4b-6370b799c509"
      },
      "execution_count": 23,
      "outputs": [
        {
          "output_type": "error",
          "ename": "IndexError",
          "evalue": "list index out of range",
          "traceback": [
            "\u001b[0;31m---------------------------------------------------------------------------\u001b[0m",
            "\u001b[0;31mIndexError\u001b[0m                                Traceback (most recent call last)",
            "\u001b[0;32m/tmp/ipython-input-3565191911.py\u001b[0m in \u001b[0;36m<cell line: 0>\u001b[0;34m()\u001b[0m\n\u001b[1;32m      1\u001b[0m \u001b[0mx1\u001b[0m \u001b[0;34m=\u001b[0m \u001b[0mx_value\u001b[0m\u001b[0;34m\u001b[0m\u001b[0;34m\u001b[0m\u001b[0m\n\u001b[0;32m----> 2\u001b[0;31m \u001b[0my1\u001b[0m \u001b[0;34m=\u001b[0m \u001b[0my_value\u001b[0m\u001b[0;34m[\u001b[0m\u001b[0;36m0\u001b[0m\u001b[0;34m]\u001b[0m\u001b[0;34m\u001b[0m\u001b[0;34m\u001b[0m\u001b[0m\n\u001b[0m\u001b[1;32m      3\u001b[0m \u001b[0;34m\u001b[0m\u001b[0m\n\u001b[1;32m      4\u001b[0m \u001b[0;31m# change the limit ranges as needed\u001b[0m\u001b[0;34m\u001b[0m\u001b[0;34m\u001b[0m\u001b[0m\n\u001b[1;32m      5\u001b[0m \u001b[0;34m\u001b[0m\u001b[0m\n",
            "\u001b[0;31mIndexError\u001b[0m: list index out of range"
          ]
        }
      ]
    }
  ]
}